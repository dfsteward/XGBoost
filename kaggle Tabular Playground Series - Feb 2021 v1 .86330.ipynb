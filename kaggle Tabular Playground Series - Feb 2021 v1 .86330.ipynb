{
 "cells": [
  {
   "cell_type": "markdown",
   "id": "handed-hurricane",
   "metadata": {},
   "source": [
    "## Objective \n",
    "For this competition, you will be predicting a continuous target based on a number of feature columns given in the data. All of the feature columns, cat0 - cat9 are categorical, and the feature columns cont0 - cont13 are continuous.\n",
    "\n",
    "## Results: Baseline model RMSE = .86330, linear regression"
   ]
  },
  {
   "cell_type": "markdown",
   "id": "provincial-minority",
   "metadata": {},
   "source": [
    "## Table of Contents  \n",
    "\n",
    "* [Import Libraries](#import_libraries)\n",
    "* [Import Data](#import_data)\n",
    "* [Create DataFrame and Descriptive Metrics](#create_dataframe)\n",
    "* [Data Preprocessing; check for nulls](#data_preprocessing)\n",
    "* [Exploratory Data Analysis](#explore_data)\n",
    "* [Converting Categorical Features](#convert_categorical)\n",
    "* [Oberservations & Feature Selection](#obs_feature_select)\n",
    "* [Standardize Data](#stadardize_data)\n",
    "* [Splitting the data into training and testing sets](#split_data)\n",
    "* [Create and Train the Model](#train_model)\n",
    "* [Model Evaluation](#model_eval)\n",
    "* [Predictions from our Model](#predict)\n",
    "* [Evaluation Metrics](#eval_metrics)\n",
    "* [Predictions for Competition](#comp_pred)"
   ]
  },
  {
   "cell_type": "markdown",
   "id": "graphic-louis",
   "metadata": {},
   "source": [
    "<a class=\"anchor\" id=\"import_libraries\"></a>\n",
    "## Import Libraries"
   ]
  },
  {
   "cell_type": "code",
   "execution_count": 1,
   "id": "hungry-mortgage",
   "metadata": {},
   "outputs": [],
   "source": [
    "import pandas as pd\n",
    "import numpy as np\n",
    "import matplotlib.pyplot as plt\n",
    "import seaborn as sns\n",
    "%matplotlib inline"
   ]
  },
  {
   "cell_type": "markdown",
   "id": "eligible-martin",
   "metadata": {},
   "source": [
    "<a class=\"anchor\" id=\"import_data\"></a>\n",
    "## Import Data"
   ]
  },
  {
   "cell_type": "markdown",
   "id": "promising-heritage",
   "metadata": {},
   "source": [
    "TRAINING DATA"
   ]
  },
  {
   "cell_type": "code",
   "execution_count": 86,
   "id": "egyptian-thermal",
   "metadata": {},
   "outputs": [],
   "source": [
    "df = pd.read_csv('train.csv',index_col='id')"
   ]
  },
  {
   "cell_type": "code",
   "execution_count": 7,
   "id": "hollow-headset",
   "metadata": {},
   "outputs": [
    {
     "data": {
      "text/html": [
       "<div>\n",
       "<style scoped>\n",
       "    .dataframe tbody tr th:only-of-type {\n",
       "        vertical-align: middle;\n",
       "    }\n",
       "\n",
       "    .dataframe tbody tr th {\n",
       "        vertical-align: top;\n",
       "    }\n",
       "\n",
       "    .dataframe thead th {\n",
       "        text-align: right;\n",
       "    }\n",
       "</style>\n",
       "<table border=\"1\" class=\"dataframe\">\n",
       "  <thead>\n",
       "    <tr style=\"text-align: right;\">\n",
       "      <th></th>\n",
       "      <th>cat0</th>\n",
       "      <th>cat1</th>\n",
       "      <th>cat2</th>\n",
       "      <th>cat3</th>\n",
       "      <th>cat4</th>\n",
       "      <th>cat5</th>\n",
       "      <th>cat6</th>\n",
       "      <th>cat7</th>\n",
       "      <th>cat8</th>\n",
       "      <th>cat9</th>\n",
       "      <th>...</th>\n",
       "      <th>cont5</th>\n",
       "      <th>cont6</th>\n",
       "      <th>cont7</th>\n",
       "      <th>cont8</th>\n",
       "      <th>cont9</th>\n",
       "      <th>cont10</th>\n",
       "      <th>cont11</th>\n",
       "      <th>cont12</th>\n",
       "      <th>cont13</th>\n",
       "      <th>target</th>\n",
       "    </tr>\n",
       "    <tr>\n",
       "      <th>id</th>\n",
       "      <th></th>\n",
       "      <th></th>\n",
       "      <th></th>\n",
       "      <th></th>\n",
       "      <th></th>\n",
       "      <th></th>\n",
       "      <th></th>\n",
       "      <th></th>\n",
       "      <th></th>\n",
       "      <th></th>\n",
       "      <th></th>\n",
       "      <th></th>\n",
       "      <th></th>\n",
       "      <th></th>\n",
       "      <th></th>\n",
       "      <th></th>\n",
       "      <th></th>\n",
       "      <th></th>\n",
       "      <th></th>\n",
       "      <th></th>\n",
       "      <th></th>\n",
       "    </tr>\n",
       "  </thead>\n",
       "  <tbody>\n",
       "    <tr>\n",
       "      <th>1</th>\n",
       "      <td>A</td>\n",
       "      <td>B</td>\n",
       "      <td>A</td>\n",
       "      <td>A</td>\n",
       "      <td>B</td>\n",
       "      <td>D</td>\n",
       "      <td>A</td>\n",
       "      <td>E</td>\n",
       "      <td>C</td>\n",
       "      <td>I</td>\n",
       "      <td>...</td>\n",
       "      <td>0.881122</td>\n",
       "      <td>0.421650</td>\n",
       "      <td>0.741413</td>\n",
       "      <td>0.895799</td>\n",
       "      <td>0.802461</td>\n",
       "      <td>0.724417</td>\n",
       "      <td>0.701915</td>\n",
       "      <td>0.877618</td>\n",
       "      <td>0.719903</td>\n",
       "      <td>6.994023</td>\n",
       "    </tr>\n",
       "    <tr>\n",
       "      <th>2</th>\n",
       "      <td>B</td>\n",
       "      <td>A</td>\n",
       "      <td>A</td>\n",
       "      <td>A</td>\n",
       "      <td>B</td>\n",
       "      <td>B</td>\n",
       "      <td>A</td>\n",
       "      <td>E</td>\n",
       "      <td>A</td>\n",
       "      <td>F</td>\n",
       "      <td>...</td>\n",
       "      <td>0.440011</td>\n",
       "      <td>0.346230</td>\n",
       "      <td>0.278495</td>\n",
       "      <td>0.593413</td>\n",
       "      <td>0.546056</td>\n",
       "      <td>0.613252</td>\n",
       "      <td>0.741289</td>\n",
       "      <td>0.326679</td>\n",
       "      <td>0.808464</td>\n",
       "      <td>8.071256</td>\n",
       "    </tr>\n",
       "    <tr>\n",
       "      <th>3</th>\n",
       "      <td>A</td>\n",
       "      <td>A</td>\n",
       "      <td>A</td>\n",
       "      <td>C</td>\n",
       "      <td>B</td>\n",
       "      <td>D</td>\n",
       "      <td>A</td>\n",
       "      <td>B</td>\n",
       "      <td>C</td>\n",
       "      <td>N</td>\n",
       "      <td>...</td>\n",
       "      <td>0.914155</td>\n",
       "      <td>0.369602</td>\n",
       "      <td>0.832564</td>\n",
       "      <td>0.865620</td>\n",
       "      <td>0.825251</td>\n",
       "      <td>0.264104</td>\n",
       "      <td>0.695561</td>\n",
       "      <td>0.869133</td>\n",
       "      <td>0.828352</td>\n",
       "      <td>5.760456</td>\n",
       "    </tr>\n",
       "    <tr>\n",
       "      <th>4</th>\n",
       "      <td>A</td>\n",
       "      <td>A</td>\n",
       "      <td>A</td>\n",
       "      <td>C</td>\n",
       "      <td>B</td>\n",
       "      <td>D</td>\n",
       "      <td>A</td>\n",
       "      <td>E</td>\n",
       "      <td>G</td>\n",
       "      <td>K</td>\n",
       "      <td>...</td>\n",
       "      <td>0.934138</td>\n",
       "      <td>0.578930</td>\n",
       "      <td>0.407313</td>\n",
       "      <td>0.868099</td>\n",
       "      <td>0.794402</td>\n",
       "      <td>0.494269</td>\n",
       "      <td>0.698125</td>\n",
       "      <td>0.809799</td>\n",
       "      <td>0.614766</td>\n",
       "      <td>7.806457</td>\n",
       "    </tr>\n",
       "    <tr>\n",
       "      <th>6</th>\n",
       "      <td>A</td>\n",
       "      <td>B</td>\n",
       "      <td>A</td>\n",
       "      <td>A</td>\n",
       "      <td>B</td>\n",
       "      <td>B</td>\n",
       "      <td>A</td>\n",
       "      <td>E</td>\n",
       "      <td>C</td>\n",
       "      <td>F</td>\n",
       "      <td>...</td>\n",
       "      <td>0.382600</td>\n",
       "      <td>0.705940</td>\n",
       "      <td>0.325193</td>\n",
       "      <td>0.440967</td>\n",
       "      <td>0.462146</td>\n",
       "      <td>0.724447</td>\n",
       "      <td>0.683073</td>\n",
       "      <td>0.343457</td>\n",
       "      <td>0.297743</td>\n",
       "      <td>6.868974</td>\n",
       "    </tr>\n",
       "  </tbody>\n",
       "</table>\n",
       "<p>5 rows × 25 columns</p>\n",
       "</div>"
      ],
      "text/plain": [
       "   cat0 cat1 cat2 cat3 cat4 cat5 cat6 cat7 cat8 cat9  ...     cont5     cont6  \\\n",
       "id                                                    ...                       \n",
       "1     A    B    A    A    B    D    A    E    C    I  ...  0.881122  0.421650   \n",
       "2     B    A    A    A    B    B    A    E    A    F  ...  0.440011  0.346230   \n",
       "3     A    A    A    C    B    D    A    B    C    N  ...  0.914155  0.369602   \n",
       "4     A    A    A    C    B    D    A    E    G    K  ...  0.934138  0.578930   \n",
       "6     A    B    A    A    B    B    A    E    C    F  ...  0.382600  0.705940   \n",
       "\n",
       "       cont7     cont8     cont9    cont10    cont11    cont12    cont13  \\\n",
       "id                                                                         \n",
       "1   0.741413  0.895799  0.802461  0.724417  0.701915  0.877618  0.719903   \n",
       "2   0.278495  0.593413  0.546056  0.613252  0.741289  0.326679  0.808464   \n",
       "3   0.832564  0.865620  0.825251  0.264104  0.695561  0.869133  0.828352   \n",
       "4   0.407313  0.868099  0.794402  0.494269  0.698125  0.809799  0.614766   \n",
       "6   0.325193  0.440967  0.462146  0.724447  0.683073  0.343457  0.297743   \n",
       "\n",
       "      target  \n",
       "id            \n",
       "1   6.994023  \n",
       "2   8.071256  \n",
       "3   5.760456  \n",
       "4   7.806457  \n",
       "6   6.868974  \n",
       "\n",
       "[5 rows x 25 columns]"
      ]
     },
     "execution_count": 7,
     "metadata": {},
     "output_type": "execute_result"
    }
   ],
   "source": [
    "df.head()"
   ]
  },
  {
   "cell_type": "markdown",
   "id": "indian-tsunami",
   "metadata": {},
   "source": [
    "TEST DATA"
   ]
  },
  {
   "cell_type": "code",
   "execution_count": 101,
   "id": "present-travel",
   "metadata": {},
   "outputs": [],
   "source": [
    "#import competition feature test set\n",
    "test = pd.read_csv('test.csv', index_col='id')"
   ]
  },
  {
   "cell_type": "markdown",
   "id": "statistical-fluid",
   "metadata": {},
   "source": [
    "<a class=\"anchor\" id=\"create_dataframe\"></a>\n",
    "## Create DataFrame and Descriptive Metrics"
   ]
  },
  {
   "cell_type": "code",
   "execution_count": 87,
   "id": "radical-vertex",
   "metadata": {},
   "outputs": [],
   "source": [
    "train=df.drop(['target'],axis=1)"
   ]
  },
  {
   "cell_type": "code",
   "execution_count": 88,
   "id": "dried-patrol",
   "metadata": {},
   "outputs": [
    {
     "data": {
      "text/html": [
       "<div>\n",
       "<style scoped>\n",
       "    .dataframe tbody tr th:only-of-type {\n",
       "        vertical-align: middle;\n",
       "    }\n",
       "\n",
       "    .dataframe tbody tr th {\n",
       "        vertical-align: top;\n",
       "    }\n",
       "\n",
       "    .dataframe thead th {\n",
       "        text-align: right;\n",
       "    }\n",
       "</style>\n",
       "<table border=\"1\" class=\"dataframe\">\n",
       "  <thead>\n",
       "    <tr style=\"text-align: right;\">\n",
       "      <th></th>\n",
       "      <th>cat0</th>\n",
       "      <th>cat1</th>\n",
       "      <th>cat2</th>\n",
       "      <th>cat3</th>\n",
       "      <th>cat4</th>\n",
       "      <th>cat5</th>\n",
       "      <th>cat6</th>\n",
       "      <th>cat7</th>\n",
       "      <th>cat8</th>\n",
       "      <th>cat9</th>\n",
       "      <th>...</th>\n",
       "      <th>cont4</th>\n",
       "      <th>cont5</th>\n",
       "      <th>cont6</th>\n",
       "      <th>cont7</th>\n",
       "      <th>cont8</th>\n",
       "      <th>cont9</th>\n",
       "      <th>cont10</th>\n",
       "      <th>cont11</th>\n",
       "      <th>cont12</th>\n",
       "      <th>cont13</th>\n",
       "    </tr>\n",
       "    <tr>\n",
       "      <th>id</th>\n",
       "      <th></th>\n",
       "      <th></th>\n",
       "      <th></th>\n",
       "      <th></th>\n",
       "      <th></th>\n",
       "      <th></th>\n",
       "      <th></th>\n",
       "      <th></th>\n",
       "      <th></th>\n",
       "      <th></th>\n",
       "      <th></th>\n",
       "      <th></th>\n",
       "      <th></th>\n",
       "      <th></th>\n",
       "      <th></th>\n",
       "      <th></th>\n",
       "      <th></th>\n",
       "      <th></th>\n",
       "      <th></th>\n",
       "      <th></th>\n",
       "      <th></th>\n",
       "    </tr>\n",
       "  </thead>\n",
       "  <tbody>\n",
       "    <tr>\n",
       "      <th>1</th>\n",
       "      <td>A</td>\n",
       "      <td>B</td>\n",
       "      <td>A</td>\n",
       "      <td>A</td>\n",
       "      <td>B</td>\n",
       "      <td>D</td>\n",
       "      <td>A</td>\n",
       "      <td>E</td>\n",
       "      <td>C</td>\n",
       "      <td>I</td>\n",
       "      <td>...</td>\n",
       "      <td>0.281421</td>\n",
       "      <td>0.881122</td>\n",
       "      <td>0.421650</td>\n",
       "      <td>0.741413</td>\n",
       "      <td>0.895799</td>\n",
       "      <td>0.802461</td>\n",
       "      <td>0.724417</td>\n",
       "      <td>0.701915</td>\n",
       "      <td>0.877618</td>\n",
       "      <td>0.719903</td>\n",
       "    </tr>\n",
       "    <tr>\n",
       "      <th>2</th>\n",
       "      <td>B</td>\n",
       "      <td>A</td>\n",
       "      <td>A</td>\n",
       "      <td>A</td>\n",
       "      <td>B</td>\n",
       "      <td>B</td>\n",
       "      <td>A</td>\n",
       "      <td>E</td>\n",
       "      <td>A</td>\n",
       "      <td>F</td>\n",
       "      <td>...</td>\n",
       "      <td>0.282354</td>\n",
       "      <td>0.440011</td>\n",
       "      <td>0.346230</td>\n",
       "      <td>0.278495</td>\n",
       "      <td>0.593413</td>\n",
       "      <td>0.546056</td>\n",
       "      <td>0.613252</td>\n",
       "      <td>0.741289</td>\n",
       "      <td>0.326679</td>\n",
       "      <td>0.808464</td>\n",
       "    </tr>\n",
       "    <tr>\n",
       "      <th>3</th>\n",
       "      <td>A</td>\n",
       "      <td>A</td>\n",
       "      <td>A</td>\n",
       "      <td>C</td>\n",
       "      <td>B</td>\n",
       "      <td>D</td>\n",
       "      <td>A</td>\n",
       "      <td>B</td>\n",
       "      <td>C</td>\n",
       "      <td>N</td>\n",
       "      <td>...</td>\n",
       "      <td>0.293756</td>\n",
       "      <td>0.914155</td>\n",
       "      <td>0.369602</td>\n",
       "      <td>0.832564</td>\n",
       "      <td>0.865620</td>\n",
       "      <td>0.825251</td>\n",
       "      <td>0.264104</td>\n",
       "      <td>0.695561</td>\n",
       "      <td>0.869133</td>\n",
       "      <td>0.828352</td>\n",
       "    </tr>\n",
       "    <tr>\n",
       "      <th>4</th>\n",
       "      <td>A</td>\n",
       "      <td>A</td>\n",
       "      <td>A</td>\n",
       "      <td>C</td>\n",
       "      <td>B</td>\n",
       "      <td>D</td>\n",
       "      <td>A</td>\n",
       "      <td>E</td>\n",
       "      <td>G</td>\n",
       "      <td>K</td>\n",
       "      <td>...</td>\n",
       "      <td>0.769785</td>\n",
       "      <td>0.934138</td>\n",
       "      <td>0.578930</td>\n",
       "      <td>0.407313</td>\n",
       "      <td>0.868099</td>\n",
       "      <td>0.794402</td>\n",
       "      <td>0.494269</td>\n",
       "      <td>0.698125</td>\n",
       "      <td>0.809799</td>\n",
       "      <td>0.614766</td>\n",
       "    </tr>\n",
       "    <tr>\n",
       "      <th>6</th>\n",
       "      <td>A</td>\n",
       "      <td>B</td>\n",
       "      <td>A</td>\n",
       "      <td>A</td>\n",
       "      <td>B</td>\n",
       "      <td>B</td>\n",
       "      <td>A</td>\n",
       "      <td>E</td>\n",
       "      <td>C</td>\n",
       "      <td>F</td>\n",
       "      <td>...</td>\n",
       "      <td>0.279105</td>\n",
       "      <td>0.382600</td>\n",
       "      <td>0.705940</td>\n",
       "      <td>0.325193</td>\n",
       "      <td>0.440967</td>\n",
       "      <td>0.462146</td>\n",
       "      <td>0.724447</td>\n",
       "      <td>0.683073</td>\n",
       "      <td>0.343457</td>\n",
       "      <td>0.297743</td>\n",
       "    </tr>\n",
       "  </tbody>\n",
       "</table>\n",
       "<p>5 rows × 24 columns</p>\n",
       "</div>"
      ],
      "text/plain": [
       "   cat0 cat1 cat2 cat3 cat4 cat5 cat6 cat7 cat8 cat9  ...     cont4     cont5  \\\n",
       "id                                                    ...                       \n",
       "1     A    B    A    A    B    D    A    E    C    I  ...  0.281421  0.881122   \n",
       "2     B    A    A    A    B    B    A    E    A    F  ...  0.282354  0.440011   \n",
       "3     A    A    A    C    B    D    A    B    C    N  ...  0.293756  0.914155   \n",
       "4     A    A    A    C    B    D    A    E    G    K  ...  0.769785  0.934138   \n",
       "6     A    B    A    A    B    B    A    E    C    F  ...  0.279105  0.382600   \n",
       "\n",
       "       cont6     cont7     cont8     cont9    cont10    cont11    cont12  \\\n",
       "id                                                                         \n",
       "1   0.421650  0.741413  0.895799  0.802461  0.724417  0.701915  0.877618   \n",
       "2   0.346230  0.278495  0.593413  0.546056  0.613252  0.741289  0.326679   \n",
       "3   0.369602  0.832564  0.865620  0.825251  0.264104  0.695561  0.869133   \n",
       "4   0.578930  0.407313  0.868099  0.794402  0.494269  0.698125  0.809799   \n",
       "6   0.705940  0.325193  0.440967  0.462146  0.724447  0.683073  0.343457   \n",
       "\n",
       "      cont13  \n",
       "id            \n",
       "1   0.719903  \n",
       "2   0.808464  \n",
       "3   0.828352  \n",
       "4   0.614766  \n",
       "6   0.297743  \n",
       "\n",
       "[5 rows x 24 columns]"
      ]
     },
     "execution_count": 88,
     "metadata": {},
     "output_type": "execute_result"
    }
   ],
   "source": [
    "train.head()"
   ]
  },
  {
   "cell_type": "code",
   "execution_count": 89,
   "id": "precise-treasurer",
   "metadata": {},
   "outputs": [],
   "source": [
    "train_labels=df['target']"
   ]
  },
  {
   "cell_type": "code",
   "execution_count": 90,
   "id": "tribal-separate",
   "metadata": {
    "scrolled": true
   },
   "outputs": [
    {
     "data": {
      "text/plain": [
       "id\n",
       "1    6.994023\n",
       "2    8.071256\n",
       "3    5.760456\n",
       "4    7.806457\n",
       "6    6.868974\n",
       "Name: target, dtype: float64"
      ]
     },
     "execution_count": 90,
     "metadata": {},
     "output_type": "execute_result"
    }
   ],
   "source": [
    "train_labels.head()"
   ]
  },
  {
   "cell_type": "code",
   "execution_count": 21,
   "id": "controversial-yesterday",
   "metadata": {},
   "outputs": [],
   "source": [
    "#train.info()"
   ]
  },
  {
   "cell_type": "code",
   "execution_count": 26,
   "id": "durable-custom",
   "metadata": {
    "scrolled": false
   },
   "outputs": [],
   "source": [
    "#train.describe()"
   ]
  },
  {
   "cell_type": "markdown",
   "id": "palestinian-turning",
   "metadata": {},
   "source": [
    "<a class=\"anchor\" id=\"data_preprocessing\"></a>\n",
    "## Data Preprocessing; check for nulls  "
   ]
  },
  {
   "cell_type": "code",
   "execution_count": 142,
   "id": "lasting-sunday",
   "metadata": {
    "collapsed": true
   },
   "outputs": [
    {
     "data": {
      "text/plain": [
       "cat0      0\n",
       "cat1      0\n",
       "cat2      0\n",
       "cat3      0\n",
       "cat4      0\n",
       "cat5      0\n",
       "cat6      0\n",
       "cat7      0\n",
       "cat8      0\n",
       "cat9      0\n",
       "cont0     0\n",
       "cont1     0\n",
       "cont2     0\n",
       "cont3     0\n",
       "cont4     0\n",
       "cont5     0\n",
       "cont6     0\n",
       "cont7     0\n",
       "cont8     0\n",
       "cont9     0\n",
       "cont10    0\n",
       "cont11    0\n",
       "cont12    0\n",
       "cont13    0\n",
       "train     0\n",
       "dtype: int64"
      ]
     },
     "execution_count": 142,
     "metadata": {},
     "output_type": "execute_result"
    }
   ],
   "source": [
    "train.isnull().sum()"
   ]
  },
  {
   "cell_type": "code",
   "execution_count": 143,
   "id": "affected-choir",
   "metadata": {},
   "outputs": [
    {
     "data": {
      "text/plain": [
       "cat0      0\n",
       "cat1      0\n",
       "cat2      0\n",
       "cat3      0\n",
       "cat4      0\n",
       "cat5      0\n",
       "cat6      0\n",
       "cat7      0\n",
       "cat8      0\n",
       "cat9      0\n",
       "cont0     0\n",
       "cont1     0\n",
       "cont2     0\n",
       "cont3     0\n",
       "cont4     0\n",
       "cont5     0\n",
       "cont6     0\n",
       "cont7     0\n",
       "cont8     0\n",
       "cont9     0\n",
       "cont10    0\n",
       "cont11    0\n",
       "cont12    0\n",
       "cont13    0\n",
       "train     0\n",
       "dtype: int64"
      ]
     },
     "execution_count": 143,
     "metadata": {},
     "output_type": "execute_result"
    }
   ],
   "source": [
    "test.isnull().sum()"
   ]
  },
  {
   "cell_type": "code",
   "execution_count": 130,
   "id": "increased-bones",
   "metadata": {},
   "outputs": [
    {
     "data": {
      "text/plain": [
       "array(['A', 'B', 'D', 'C', 'E', 'I', 'G', 'H'], dtype=object)"
      ]
     },
     "execution_count": 130,
     "metadata": {},
     "output_type": "execute_result"
    }
   ],
   "source": [
    "train['cat6'].unique()"
   ]
  },
  {
   "cell_type": "code",
   "execution_count": 129,
   "id": "exceptional-trick",
   "metadata": {},
   "outputs": [
    {
     "data": {
      "text/plain": [
       "array(['A', 'B', 'C', 'D', 'E', 'I', 'H'], dtype=object)"
      ]
     },
     "execution_count": 129,
     "metadata": {},
     "output_type": "execute_result"
    }
   ],
   "source": [
    "test['cat6'].unique()"
   ]
  },
  {
   "cell_type": "markdown",
   "id": "informative-factory",
   "metadata": {},
   "source": [
    "<a class=\"anchor\" id=\"explore_data\"></a>\n",
    "## Exploratory Data Analysis"
   ]
  },
  {
   "cell_type": "markdown",
   "id": "vocal-wonder",
   "metadata": {},
   "source": [
    "<a class=\"anchor\" id=\"convert_categorical\"></a>\n",
    "## Converting Categorical Features\n",
    "Convert categorical features to dummy variables"
   ]
  },
  {
   "cell_type": "markdown",
   "id": "swiss-brunei",
   "metadata": {},
   "source": [
    "Identify categorigal features and check cardinality"
   ]
  },
  {
   "cell_type": "code",
   "execution_count": 27,
   "id": "super-lawyer",
   "metadata": {},
   "outputs": [
    {
     "name": "stdout",
     "output_type": "stream",
     "text": [
      "['cat0' 'cat1' 'cat2' 'cat3' 'cat4' 'cat5' 'cat6' 'cat7' 'cat8' 'cat9']\n"
     ]
    }
   ],
   "source": [
    "#Create array of only categorical (!= 'object') data types\n",
    "all_cat_feats = train.columns[train.dtypes == \"object\"].values\n",
    "print(all_cat_feats)"
   ]
  },
  {
   "cell_type": "markdown",
   "id": "circular-manchester",
   "metadata": {},
   "source": [
    "**COMPARE CARDINALITY OF TRAIN AND TEST DATASETS**"
   ]
  },
  {
   "cell_type": "code",
   "execution_count": 99,
   "id": "ethical-medicine",
   "metadata": {},
   "outputs": [],
   "source": [
    "#check cardinality of training features\n",
    "#for i in all_cat_feats:\n",
    "#    print(i, train[i].nunique(), test_values[i].nunique() )"
   ]
  },
  {
   "cell_type": "code",
   "execution_count": 102,
   "id": "excess-mechanism",
   "metadata": {},
   "outputs": [
    {
     "name": "stdout",
     "output_type": "stream",
     "text": [
      "cat6\n"
     ]
    }
   ],
   "source": [
    "#RETURN FEATURES WHEN CARDINATLITY DOES NOT MATCH B/W TRAIN & TEST DATA\n",
    "for i in all_cat_feats:\n",
    "    if train[i].nunique() != test[i].nunique():\n",
    "        print(i)"
   ]
  },
  {
   "cell_type": "markdown",
   "id": "everyday-stations",
   "metadata": {},
   "source": [
    "**CARDINALITY DOES NOT MATCH; WE'LL COMBINE TRAIN & TEST DATA SETS PRIOR TO CONVERTING CATEGORICAL FEATURES, THEN SPLIT BACK OUT**"
   ]
  },
  {
   "cell_type": "markdown",
   "id": "heavy-nigeria",
   "metadata": {},
   "source": [
    "ADD A COLUMN TO BOTH DATASETS TO ID WHICH DATASET IT IS (1=TRAIN, 0 = TEST); WE'LL LATER USE THIS TO ID AND SPLIT DATASETS BACK OUT"
   ]
  },
  {
   "cell_type": "code",
   "execution_count": 131,
   "id": "secure-spelling",
   "metadata": {},
   "outputs": [],
   "source": [
    "train['train']=1\n",
    "test['train']=0"
   ]
  },
  {
   "cell_type": "markdown",
   "id": "thick-teaching",
   "metadata": {},
   "source": [
    "COMBINE THE TRAIN & TEST DATASETS"
   ]
  },
  {
   "cell_type": "code",
   "execution_count": 132,
   "id": "ambient-watershed",
   "metadata": {},
   "outputs": [],
   "source": [
    "combined = pd.concat([train,test])"
   ]
  },
  {
   "cell_type": "markdown",
   "id": "paperback-cooperation",
   "metadata": {},
   "source": [
    "ENCODE THE DESIRED FEATURE(S)"
   ]
  },
  {
   "cell_type": "code",
   "execution_count": 134,
   "id": "least-employment",
   "metadata": {},
   "outputs": [],
   "source": [
    "#When converting binary categorical features with pd.get_dummies, to avoid multicoliniarity need to drop column(s) before fitting model, \n",
    "CAT0 = pd.get_dummies(combined['cat0'],drop_first=True)\n",
    "CAT1 = pd.get_dummies(combined['cat1'],drop_first=True)\n",
    "CAT2 = pd.get_dummies(combined['cat2'],drop_first=True)\n",
    "CAT3 = pd.get_dummies(combined['cat3'],drop_first=True)\n",
    "CAT4 = pd.get_dummies(combined['cat4'],drop_first=True)\n",
    "CAT5 = pd.get_dummies(combined['cat5'],drop_first=True)\n",
    "CAT6 = pd.get_dummies(combined['cat6'],drop_first=True)\n",
    "CAT7 = pd.get_dummies(combined['cat7'],drop_first=True)\n",
    "CAT8 = pd.get_dummies(combined['cat8'],drop_first=True)\n",
    "CAT9 = pd.get_dummies(combined['cat9'],drop_first=True)"
   ]
  },
  {
   "cell_type": "markdown",
   "id": "directed-korea",
   "metadata": {},
   "source": [
    "DROP ORIGINALS FROM THE DATAFRAME"
   ]
  },
  {
   "cell_type": "code",
   "execution_count": 135,
   "id": "continuing-heath",
   "metadata": {},
   "outputs": [],
   "source": [
    "#drop original features from dataset\n",
    "for i in all_cat_feats:\n",
    "    combined.drop([i],axis=1,inplace=True)"
   ]
  },
  {
   "cell_type": "markdown",
   "id": "exciting-appointment",
   "metadata": {},
   "source": [
    "ADD THE NEW ENCODED FEATURES WITH THE 'COMBINED' DATASET"
   ]
  },
  {
   "cell_type": "code",
   "execution_count": 136,
   "id": "configured-modeling",
   "metadata": {},
   "outputs": [],
   "source": [
    "#Add back in the dummy variable features\n",
    "combined = pd.concat([combined,CAT0],axis=1)\n",
    "combined = pd.concat([combined,CAT1],axis=1)\n",
    "combined = pd.concat([combined,CAT2],axis=1)\n",
    "combined = pd.concat([combined,CAT3],axis=1)\n",
    "combined = pd.concat([combined,CAT4],axis=1)\n",
    "combined = pd.concat([combined,CAT5],axis=1)\n",
    "combined = pd.concat([combined,CAT6],axis=1)\n",
    "combined = pd.concat([combined,CAT7],axis=1)\n",
    "combined = pd.concat([combined,CAT8],axis=1)\n",
    "combined = pd.concat([combined,CAT9],axis=1)"
   ]
  },
  {
   "cell_type": "markdown",
   "id": "acute-million",
   "metadata": {},
   "source": [
    "SPLIT BACK INTO SEPARATE TRAIN & TEST DATASETS"
   ]
  },
  {
   "cell_type": "code",
   "execution_count": 137,
   "id": "casual-welsh",
   "metadata": {},
   "outputs": [
    {
     "name": "stderr",
     "output_type": "stream",
     "text": [
      "c:\\users\\devin\\appdata\\local\\programs\\python\\python38\\lib\\site-packages\\pandas\\core\\frame.py:4305: SettingWithCopyWarning: \n",
      "A value is trying to be set on a copy of a slice from a DataFrame\n",
      "\n",
      "See the caveats in the documentation: https://pandas.pydata.org/pandas-docs/stable/user_guide/indexing.html#returning-a-view-versus-a-copy\n",
      "  return super().drop(\n"
     ]
    }
   ],
   "source": [
    "#split based on the 'train' column we created above to differentiate the datasets\n",
    "train_df = combined[combined['train']==1]\n",
    "test_df = combined[combined['train']==0]\n",
    "\n",
    "#drop the 'train' id column\n",
    "train_df.drop(['train'],axis=1,inplace=True)\n",
    "test_df.drop(['train'],axis=1,inplace=True)"
   ]
  },
  {
   "cell_type": "markdown",
   "id": "automatic-namibia",
   "metadata": {},
   "source": [
    "CHECK SHAPE OF DATASETS"
   ]
  },
  {
   "cell_type": "code",
   "execution_count": 138,
   "id": "consistent-advice",
   "metadata": {
    "scrolled": true
   },
   "outputs": [
    {
     "data": {
      "text/plain": [
       "(300000, 60)"
      ]
     },
     "execution_count": 138,
     "metadata": {},
     "output_type": "execute_result"
    }
   ],
   "source": [
    "train_df.shape"
   ]
  },
  {
   "cell_type": "code",
   "execution_count": 139,
   "id": "detected-association",
   "metadata": {},
   "outputs": [
    {
     "data": {
      "text/plain": [
       "(200000, 60)"
      ]
     },
     "execution_count": 139,
     "metadata": {},
     "output_type": "execute_result"
    }
   ],
   "source": [
    "test_df.shape"
   ]
  },
  {
   "cell_type": "markdown",
   "id": "joint-strap",
   "metadata": {},
   "source": [
    "CHECK CARDINALITY OF DATASETS"
   ]
  },
  {
   "cell_type": "markdown",
   "id": "closing-exposure",
   "metadata": {},
   "source": [
    "<a class=\"anchor\" id=\"stadardize_data\"></a>\n",
    "## Standardize Data"
   ]
  },
  {
   "cell_type": "code",
   "execution_count": 38,
   "id": "changing-piano",
   "metadata": {},
   "outputs": [],
   "source": [
    "from sklearn import preprocessing"
   ]
  },
  {
   "cell_type": "code",
   "execution_count": 39,
   "id": "plain-drove",
   "metadata": {},
   "outputs": [],
   "source": [
    "scaler = preprocessing.StandardScaler()"
   ]
  },
  {
   "cell_type": "code",
   "execution_count": 144,
   "id": "alive-costume",
   "metadata": {},
   "outputs": [
    {
     "data": {
      "text/plain": [
       "StandardScaler()"
      ]
     },
     "execution_count": 144,
     "metadata": {},
     "output_type": "execute_result"
    }
   ],
   "source": [
    "scaler.fit(train_df)"
   ]
  },
  {
   "cell_type": "code",
   "execution_count": 145,
   "id": "faced-japanese",
   "metadata": {},
   "outputs": [],
   "source": [
    "X_scaled = scaler.transform(train_df)"
   ]
  },
  {
   "cell_type": "code",
   "execution_count": 146,
   "id": "polar-class",
   "metadata": {},
   "outputs": [
    {
     "data": {
      "text/plain": [
       "numpy.ndarray"
      ]
     },
     "execution_count": 146,
     "metadata": {},
     "output_type": "execute_result"
    }
   ],
   "source": [
    "type(X_scaled)"
   ]
  },
  {
   "cell_type": "code",
   "execution_count": 147,
   "id": "quantitative-cutting",
   "metadata": {},
   "outputs": [],
   "source": [
    "#Converting numpy array to dataframe\n",
    "X_scaled_df = pd.DataFrame(X_scaled, index=train_df.index, columns=train_df.columns) "
   ]
  },
  {
   "cell_type": "code",
   "execution_count": 122,
   "id": "unusual-coverage",
   "metadata": {},
   "outputs": [
    {
     "data": {
      "text/html": [
       "<div>\n",
       "<style scoped>\n",
       "    .dataframe tbody tr th:only-of-type {\n",
       "        vertical-align: middle;\n",
       "    }\n",
       "\n",
       "    .dataframe tbody tr th {\n",
       "        vertical-align: top;\n",
       "    }\n",
       "\n",
       "    .dataframe thead th {\n",
       "        text-align: right;\n",
       "    }\n",
       "</style>\n",
       "<table border=\"1\" class=\"dataframe\">\n",
       "  <thead>\n",
       "    <tr style=\"text-align: right;\">\n",
       "      <th></th>\n",
       "      <th>cont0</th>\n",
       "      <th>cont1</th>\n",
       "      <th>cont2</th>\n",
       "      <th>cont3</th>\n",
       "      <th>cont4</th>\n",
       "      <th>cont5</th>\n",
       "      <th>cont6</th>\n",
       "      <th>cont7</th>\n",
       "      <th>cont8</th>\n",
       "      <th>cont9</th>\n",
       "      <th>...</th>\n",
       "      <th>F</th>\n",
       "      <th>G</th>\n",
       "      <th>H</th>\n",
       "      <th>I</th>\n",
       "      <th>J</th>\n",
       "      <th>K</th>\n",
       "      <th>L</th>\n",
       "      <th>M</th>\n",
       "      <th>N</th>\n",
       "      <th>O</th>\n",
       "    </tr>\n",
       "    <tr>\n",
       "      <th>id</th>\n",
       "      <th></th>\n",
       "      <th></th>\n",
       "      <th></th>\n",
       "      <th></th>\n",
       "      <th></th>\n",
       "      <th></th>\n",
       "      <th></th>\n",
       "      <th></th>\n",
       "      <th></th>\n",
       "      <th></th>\n",
       "      <th></th>\n",
       "      <th></th>\n",
       "      <th></th>\n",
       "      <th></th>\n",
       "      <th></th>\n",
       "      <th></th>\n",
       "      <th></th>\n",
       "      <th></th>\n",
       "      <th></th>\n",
       "      <th></th>\n",
       "      <th></th>\n",
       "    </tr>\n",
       "  </thead>\n",
       "  <tbody>\n",
       "    <tr>\n",
       "      <th>1</th>\n",
       "      <td>1.945372</td>\n",
       "      <td>0.757938</td>\n",
       "      <td>-1.597601</td>\n",
       "      <td>-0.956673</td>\n",
       "      <td>-0.867238</td>\n",
       "      <td>1.609527</td>\n",
       "      <td>-0.294623</td>\n",
       "      <td>1.396184</td>\n",
       "      <td>1.978227</td>\n",
       "      <td>1.350628</td>\n",
       "      <td>...</td>\n",
       "      <td>NaN</td>\n",
       "      <td>NaN</td>\n",
       "      <td>NaN</td>\n",
       "      <td>NaN</td>\n",
       "      <td>NaN</td>\n",
       "      <td>NaN</td>\n",
       "      <td>NaN</td>\n",
       "      <td>NaN</td>\n",
       "      <td>NaN</td>\n",
       "      <td>NaN</td>\n",
       "    </tr>\n",
       "    <tr>\n",
       "      <th>2</th>\n",
       "      <td>-0.424682</td>\n",
       "      <td>-2.093075</td>\n",
       "      <td>-0.433193</td>\n",
       "      <td>1.675598</td>\n",
       "      <td>-0.862591</td>\n",
       "      <td>-0.295002</td>\n",
       "      <td>-0.686557</td>\n",
       "      <td>-0.867560</td>\n",
       "      <td>0.607739</td>\n",
       "      <td>0.093896</td>\n",
       "      <td>...</td>\n",
       "      <td>NaN</td>\n",
       "      <td>NaN</td>\n",
       "      <td>NaN</td>\n",
       "      <td>NaN</td>\n",
       "      <td>NaN</td>\n",
       "      <td>NaN</td>\n",
       "      <td>NaN</td>\n",
       "      <td>NaN</td>\n",
       "      <td>NaN</td>\n",
       "      <td>NaN</td>\n",
       "    </tr>\n",
       "    <tr>\n",
       "      <th>3</th>\n",
       "      <td>1.013181</td>\n",
       "      <td>1.077375</td>\n",
       "      <td>0.052623</td>\n",
       "      <td>1.536759</td>\n",
       "      <td>-0.805777</td>\n",
       "      <td>1.752148</td>\n",
       "      <td>-0.565102</td>\n",
       "      <td>1.841928</td>\n",
       "      <td>1.841445</td>\n",
       "      <td>1.462334</td>\n",
       "      <td>...</td>\n",
       "      <td>NaN</td>\n",
       "      <td>NaN</td>\n",
       "      <td>NaN</td>\n",
       "      <td>NaN</td>\n",
       "      <td>NaN</td>\n",
       "      <td>NaN</td>\n",
       "      <td>NaN</td>\n",
       "      <td>NaN</td>\n",
       "      <td>NaN</td>\n",
       "      <td>NaN</td>\n",
       "    </tr>\n",
       "    <tr>\n",
       "      <th>4</th>\n",
       "      <td>0.881067</td>\n",
       "      <td>1.126494</td>\n",
       "      <td>-1.451257</td>\n",
       "      <td>1.201160</td>\n",
       "      <td>1.566127</td>\n",
       "      <td>1.838425</td>\n",
       "      <td>0.522703</td>\n",
       "      <td>-0.237621</td>\n",
       "      <td>1.852684</td>\n",
       "      <td>1.311128</td>\n",
       "      <td>...</td>\n",
       "      <td>NaN</td>\n",
       "      <td>NaN</td>\n",
       "      <td>NaN</td>\n",
       "      <td>NaN</td>\n",
       "      <td>NaN</td>\n",
       "      <td>NaN</td>\n",
       "      <td>NaN</td>\n",
       "      <td>NaN</td>\n",
       "      <td>NaN</td>\n",
       "      <td>NaN</td>\n",
       "    </tr>\n",
       "    <tr>\n",
       "      <th>6</th>\n",
       "      <td>-0.188265</td>\n",
       "      <td>0.564033</td>\n",
       "      <td>0.260374</td>\n",
       "      <td>-0.385590</td>\n",
       "      <td>-0.878778</td>\n",
       "      <td>-0.542878</td>\n",
       "      <td>1.182729</td>\n",
       "      <td>-0.639198</td>\n",
       "      <td>-0.083184</td>\n",
       "      <td>-0.317379</td>\n",
       "      <td>...</td>\n",
       "      <td>NaN</td>\n",
       "      <td>NaN</td>\n",
       "      <td>NaN</td>\n",
       "      <td>NaN</td>\n",
       "      <td>NaN</td>\n",
       "      <td>NaN</td>\n",
       "      <td>NaN</td>\n",
       "      <td>NaN</td>\n",
       "      <td>NaN</td>\n",
       "      <td>NaN</td>\n",
       "    </tr>\n",
       "  </tbody>\n",
       "</table>\n",
       "<p>5 rows × 66 columns</p>\n",
       "</div>"
      ],
      "text/plain": [
       "       cont0     cont1     cont2     cont3     cont4     cont5     cont6  \\\n",
       "id                                                                         \n",
       "1   1.945372  0.757938 -1.597601 -0.956673 -0.867238  1.609527 -0.294623   \n",
       "2  -0.424682 -2.093075 -0.433193  1.675598 -0.862591 -0.295002 -0.686557   \n",
       "3   1.013181  1.077375  0.052623  1.536759 -0.805777  1.752148 -0.565102   \n",
       "4   0.881067  1.126494 -1.451257  1.201160  1.566127  1.838425  0.522703   \n",
       "6  -0.188265  0.564033  0.260374 -0.385590 -0.878778 -0.542878  1.182729   \n",
       "\n",
       "       cont7     cont8     cont9  ...   F   G   H   I   J   K   L   M   N   O  \n",
       "id                                ...                                          \n",
       "1   1.396184  1.978227  1.350628  ... NaN NaN NaN NaN NaN NaN NaN NaN NaN NaN  \n",
       "2  -0.867560  0.607739  0.093896  ... NaN NaN NaN NaN NaN NaN NaN NaN NaN NaN  \n",
       "3   1.841928  1.841445  1.462334  ... NaN NaN NaN NaN NaN NaN NaN NaN NaN NaN  \n",
       "4  -0.237621  1.852684  1.311128  ... NaN NaN NaN NaN NaN NaN NaN NaN NaN NaN  \n",
       "6  -0.639198 -0.083184 -0.317379  ... NaN NaN NaN NaN NaN NaN NaN NaN NaN NaN  \n",
       "\n",
       "[5 rows x 66 columns]"
      ]
     },
     "execution_count": 122,
     "metadata": {},
     "output_type": "execute_result"
    }
   ],
   "source": [
    "X_scaled_df.head()"
   ]
  },
  {
   "cell_type": "markdown",
   "id": "limited-tyler",
   "metadata": {},
   "source": [
    "<a class=\"anchor\" id=\"split_data\"></a>\n",
    "## Splitting the data into training and testing sets"
   ]
  },
  {
   "cell_type": "code",
   "execution_count": 49,
   "id": "foreign-hawaii",
   "metadata": {},
   "outputs": [],
   "source": [
    "from sklearn.model_selection import train_test_split"
   ]
  },
  {
   "cell_type": "code",
   "execution_count": 148,
   "id": "horizontal-haiti",
   "metadata": {},
   "outputs": [],
   "source": [
    "X = X_scaled_df\n",
    "y = train_labels"
   ]
  },
  {
   "cell_type": "code",
   "execution_count": 149,
   "id": "hybrid-technology",
   "metadata": {},
   "outputs": [],
   "source": [
    "X_train, X_test, y_train, y_test = train_test_split(X, y, test_size=0.3, random_state=5)"
   ]
  },
  {
   "cell_type": "markdown",
   "id": "closed-taxation",
   "metadata": {},
   "source": [
    "<a class=\"anchor\" id=\"train_model\"></a>\n",
    "## Create and Train the Model"
   ]
  },
  {
   "cell_type": "code",
   "execution_count": 150,
   "id": "traditional-approval",
   "metadata": {},
   "outputs": [],
   "source": [
    "from sklearn.linear_model import LinearRegression"
   ]
  },
  {
   "cell_type": "code",
   "execution_count": 151,
   "id": "english-conducting",
   "metadata": {},
   "outputs": [],
   "source": [
    "lm = LinearRegression()"
   ]
  },
  {
   "cell_type": "code",
   "execution_count": 152,
   "id": "reduced-jungle",
   "metadata": {},
   "outputs": [
    {
     "data": {
      "text/plain": [
       "LinearRegression()"
      ]
     },
     "execution_count": 152,
     "metadata": {},
     "output_type": "execute_result"
    }
   ],
   "source": [
    "#fit to training data\n",
    "lm.fit(X_train,y_train)"
   ]
  },
  {
   "cell_type": "markdown",
   "id": "perceived-september",
   "metadata": {},
   "source": [
    "<a class=\"anchor\" id=\"predict\"></a>\n",
    "## Predictions from our Model"
   ]
  },
  {
   "cell_type": "code",
   "execution_count": 153,
   "id": "official-matthew",
   "metadata": {},
   "outputs": [],
   "source": [
    "#pass in data the model hasn't seen before (feature data set of our test data)\n",
    "predictions = lm.predict(X_test)"
   ]
  },
  {
   "cell_type": "code",
   "execution_count": 154,
   "id": "technological-palestinian",
   "metadata": {},
   "outputs": [
    {
     "data": {
      "text/plain": [
       "<matplotlib.collections.PathCollection at 0x2380a984880>"
      ]
     },
     "execution_count": 154,
     "metadata": {},
     "output_type": "execute_result"
    },
    {
     "data": {
      "image/png": "[encoded data removed]",
      "text/plain": [
       "<Figure size 432x288 with 1 Axes>"
      ]
     },
     "metadata": {
      "needs_background": "light"
     },
     "output_type": "display_data"
    }
   ],
   "source": [
    "#compare predictions agains actual labels using a scatter plot, the more linear = the more accurate/correct predictions\n",
    "plt.scatter(y_test,predictions)"
   ]
  },
  {
   "cell_type": "markdown",
   "id": "forced-louisville",
   "metadata": {},
   "source": [
    "**Residual Histogram**"
   ]
  },
  {
   "cell_type": "code",
   "execution_count": 155,
   "id": "driven-slave",
   "metadata": {},
   "outputs": [
    {
     "data": {
      "image/png": "[encoded data removed]",
      "text/plain": [
       "<Figure size 360x360 with 1 Axes>"
      ]
     },
     "metadata": {
      "needs_background": "light"
     },
     "output_type": "display_data"
    }
   ],
   "source": [
    "#create a histogram of the residuals (difference/error b/w actuals and predictions )\n",
    "\n",
    "#if residuals are normally distributed (or approximate), then the model was the correct choice for the data; if not consider a different type of model\n",
    "sns.displot((y_test-predictions),bins=50);"
   ]
  },
  {
   "cell_type": "markdown",
   "id": "younger-shuttle",
   "metadata": {},
   "source": [
    "<a class=\"anchor\" id=\"model_eval\"></a>\n",
    "## Model Evaluation"
   ]
  },
  {
   "cell_type": "code",
   "execution_count": 156,
   "id": "random-bradley",
   "metadata": {},
   "outputs": [],
   "source": [
    "from sklearn import metrics"
   ]
  },
  {
   "cell_type": "code",
   "execution_count": 157,
   "id": "conceptual-cleaners",
   "metadata": {},
   "outputs": [
    {
     "name": "stdout",
     "output_type": "stream",
     "text": [
      "MAE: 0.7182973037162557\n",
      "MSE: 0.7435925848912087\n",
      "RMSE: 0.8623181459827972\n"
     ]
    }
   ],
   "source": [
    "print('MAE:', metrics.mean_absolute_error(y_test, predictions))\n",
    "print('MSE:', metrics.mean_squared_error(y_test, predictions))\n",
    "print('RMSE:', np.sqrt(metrics.mean_squared_error(y_test, predictions)))"
   ]
  },
  {
   "cell_type": "markdown",
   "id": "exposed-functionality",
   "metadata": {},
   "source": [
    "<a class=\"anchor\" id=\"comp_pred\"></a>\n",
    "## Predictions for Competition"
   ]
  },
  {
   "cell_type": "markdown",
   "id": "previous-channel",
   "metadata": {},
   "source": [
    "Perform same preprocessing steps as on training data"
   ]
  },
  {
   "cell_type": "markdown",
   "id": "affected-mixture",
   "metadata": {},
   "source": [
    "**CONVERT CATEGORICAL**"
   ]
  },
  {
   "cell_type": "markdown",
   "id": "saved-opportunity",
   "metadata": {},
   "source": [
    "ALREADY CONVERTED ABOVE, WITH TRAINING DATA"
   ]
  },
  {
   "cell_type": "markdown",
   "id": "promising-connection",
   "metadata": {},
   "source": [
    "**STANDARDIZE DATA**"
   ]
  },
  {
   "cell_type": "code",
   "execution_count": 159,
   "id": "fatal-recognition",
   "metadata": {
    "scrolled": true
   },
   "outputs": [
    {
     "data": {
      "text/plain": [
       "numpy.ndarray"
      ]
     },
     "execution_count": 159,
     "metadata": {},
     "output_type": "execute_result"
    }
   ],
   "source": [
    "#use scaler fitted to the training data\n",
    "X_scaled_tst = scaler.transform(test_df)\n",
    "type(X_scaled_tst)"
   ]
  },
  {
   "cell_type": "code",
   "execution_count": 160,
   "id": "documentary-testing",
   "metadata": {},
   "outputs": [],
   "source": [
    "#Converting numpy array to dataframe\n",
    "X_scaled_tst = pd.DataFrame(X_scaled_tst, index=test_df.index, columns=test_df.columns) "
   ]
  },
  {
   "cell_type": "markdown",
   "id": "authentic-great",
   "metadata": {},
   "source": [
    "**MAKE PREDICTIONS WITH TEST DATA**"
   ]
  },
  {
   "cell_type": "code",
   "execution_count": 162,
   "id": "apparent-hepatitis",
   "metadata": {},
   "outputs": [],
   "source": [
    "predict = lm.predict(X_scaled_tst)"
   ]
  },
  {
   "cell_type": "code",
   "execution_count": 163,
   "id": "stock-portrait",
   "metadata": {},
   "outputs": [
    {
     "data": {
      "text/plain": [
       "(200000,)"
      ]
     },
     "execution_count": 163,
     "metadata": {},
     "output_type": "execute_result"
    }
   ],
   "source": [
    "np.array(predict).shape"
   ]
  },
  {
   "cell_type": "code",
   "execution_count": 166,
   "id": "acoustic-zambia",
   "metadata": {
    "scrolled": true
   },
   "outputs": [
    {
     "data": {
      "text/plain": [
       "array([7.54649945, 7.88162887, 7.64705807, ..., 7.54836438, 7.47258413,\n",
       "       7.19790938])"
      ]
     },
     "execution_count": 166,
     "metadata": {},
     "output_type": "execute_result"
    }
   ],
   "source": [
    "predict"
   ]
  },
  {
   "cell_type": "markdown",
   "id": "annual-logan",
   "metadata": {},
   "source": [
    "**CREATE DATAFRAME OF PREDICTIONS, WITH INDEX**"
   ]
  },
  {
   "cell_type": "code",
   "execution_count": 167,
   "id": "unlike-roman",
   "metadata": {},
   "outputs": [],
   "source": [
    "#name column(s) as desired\n",
    "final_dataset = pd.DataFrame(\n",
    "    {\n",
    "        \"target\": predict[:],\n",
    "    },\n",
    "    index = test_df.index\n",
    ")"
   ]
  },
  {
   "cell_type": "code",
   "execution_count": 168,
   "id": "realistic-olympus",
   "metadata": {},
   "outputs": [
    {
     "data": {
      "text/plain": [
       "(200000, 1)"
      ]
     },
     "execution_count": 168,
     "metadata": {},
     "output_type": "execute_result"
    }
   ],
   "source": [
    "final_dataset.shape"
   ]
  },
  {
   "cell_type": "code",
   "execution_count": 169,
   "id": "grateful-transportation",
   "metadata": {
    "scrolled": true
   },
   "outputs": [
    {
     "data": {
      "text/html": [
       "<div>\n",
       "<style scoped>\n",
       "    .dataframe tbody tr th:only-of-type {\n",
       "        vertical-align: middle;\n",
       "    }\n",
       "\n",
       "    .dataframe tbody tr th {\n",
       "        vertical-align: top;\n",
       "    }\n",
       "\n",
       "    .dataframe thead th {\n",
       "        text-align: right;\n",
       "    }\n",
       "</style>\n",
       "<table border=\"1\" class=\"dataframe\">\n",
       "  <thead>\n",
       "    <tr style=\"text-align: right;\">\n",
       "      <th></th>\n",
       "      <th>target</th>\n",
       "    </tr>\n",
       "    <tr>\n",
       "      <th>id</th>\n",
       "      <th></th>\n",
       "    </tr>\n",
       "  </thead>\n",
       "  <tbody>\n",
       "    <tr>\n",
       "      <th>0</th>\n",
       "      <td>7.546499</td>\n",
       "    </tr>\n",
       "    <tr>\n",
       "      <th>5</th>\n",
       "      <td>7.881629</td>\n",
       "    </tr>\n",
       "    <tr>\n",
       "      <th>15</th>\n",
       "      <td>7.647058</td>\n",
       "    </tr>\n",
       "    <tr>\n",
       "      <th>16</th>\n",
       "      <td>7.506547</td>\n",
       "    </tr>\n",
       "    <tr>\n",
       "      <th>17</th>\n",
       "      <td>7.324410</td>\n",
       "    </tr>\n",
       "  </tbody>\n",
       "</table>\n",
       "</div>"
      ],
      "text/plain": [
       "      target\n",
       "id          \n",
       "0   7.546499\n",
       "5   7.881629\n",
       "15  7.647058\n",
       "16  7.506547\n",
       "17  7.324410"
      ]
     },
     "execution_count": 169,
     "metadata": {},
     "output_type": "execute_result"
    }
   ],
   "source": [
    "final_dataset.head()"
   ]
  },
  {
   "cell_type": "markdown",
   "id": "spatial-passing",
   "metadata": {},
   "source": [
    "**CREATE SUBMISSION FILE**"
   ]
  },
  {
   "cell_type": "markdown",
   "id": "underlying-decline",
   "metadata": {},
   "source": [
    "Import the provided sample_submission.csv to use as a template to create your submission file:"
   ]
  },
  {
   "cell_type": "code",
   "execution_count": 170,
   "id": "innocent-pressure",
   "metadata": {},
   "outputs": [],
   "source": [
    "submission_format = pd.read_csv('sample_submission.csv', index_col='id')"
   ]
  },
  {
   "cell_type": "code",
   "execution_count": 172,
   "id": "published-trace",
   "metadata": {},
   "outputs": [
    {
     "data": {
      "text/plain": [
       "Index(['target'], dtype='object')"
      ]
     },
     "execution_count": 172,
     "metadata": {},
     "output_type": "execute_result"
    }
   ],
   "source": [
    "submission_format.columns"
   ]
  },
  {
   "cell_type": "code",
   "execution_count": 173,
   "id": "healthy-training",
   "metadata": {},
   "outputs": [],
   "source": [
    "my_submission = pd.DataFrame(data=final_dataset,\n",
    "                             columns=submission_format.columns,\n",
    "                             index=submission_format.index)"
   ]
  },
  {
   "cell_type": "code",
   "execution_count": 174,
   "id": "advisory-correction",
   "metadata": {},
   "outputs": [
    {
     "data": {
      "text/html": [
       "<div>\n",
       "<style scoped>\n",
       "    .dataframe tbody tr th:only-of-type {\n",
       "        vertical-align: middle;\n",
       "    }\n",
       "\n",
       "    .dataframe tbody tr th {\n",
       "        vertical-align: top;\n",
       "    }\n",
       "\n",
       "    .dataframe thead th {\n",
       "        text-align: right;\n",
       "    }\n",
       "</style>\n",
       "<table border=\"1\" class=\"dataframe\">\n",
       "  <thead>\n",
       "    <tr style=\"text-align: right;\">\n",
       "      <th></th>\n",
       "      <th>target</th>\n",
       "    </tr>\n",
       "    <tr>\n",
       "      <th>id</th>\n",
       "      <th></th>\n",
       "    </tr>\n",
       "  </thead>\n",
       "  <tbody>\n",
       "    <tr>\n",
       "      <th>0</th>\n",
       "      <td>7.546499</td>\n",
       "    </tr>\n",
       "    <tr>\n",
       "      <th>5</th>\n",
       "      <td>7.881629</td>\n",
       "    </tr>\n",
       "    <tr>\n",
       "      <th>15</th>\n",
       "      <td>7.647058</td>\n",
       "    </tr>\n",
       "    <tr>\n",
       "      <th>16</th>\n",
       "      <td>7.506547</td>\n",
       "    </tr>\n",
       "    <tr>\n",
       "      <th>17</th>\n",
       "      <td>7.324410</td>\n",
       "    </tr>\n",
       "  </tbody>\n",
       "</table>\n",
       "</div>"
      ],
      "text/plain": [
       "      target\n",
       "id          \n",
       "0   7.546499\n",
       "5   7.881629\n",
       "15  7.647058\n",
       "16  7.506547\n",
       "17  7.324410"
      ]
     },
     "execution_count": 174,
     "metadata": {},
     "output_type": "execute_result"
    }
   ],
   "source": [
    "my_submission.head()"
   ]
  },
  {
   "cell_type": "code",
   "execution_count": 175,
   "id": "bulgarian-document",
   "metadata": {},
   "outputs": [],
   "source": [
    "my_submission.to_csv('baseline.csv')"
   ]
  }
 ],
 "metadata": {
  "kernelspec": {
   "display_name": "Python 3",
   "language": "python",
   "name": "python3"
  },
  "language_info": {
   "codemirror_mode": {
    "name": "ipython",
    "version": 3
   },
   "file_extension": ".py",
   "mimetype": "text/x-python",
   "name": "python",
   "nbconvert_exporter": "python",
   "pygments_lexer": "ipython3",
   "version": "3.8.0"
  }
 },
 "nbformat": 4,
 "nbformat_minor": 5
}
