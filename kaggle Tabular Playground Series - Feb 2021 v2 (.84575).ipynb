{
 "cells": [
  {
   "cell_type": "markdown",
   "id": "handed-hurricane",
   "metadata": {},
   "source": [
    "[Kaggle Tabluar Playground Series Feb 2021](https://www.kaggle.com/c/tabular-playground-series-feb-2021/overview)  \n",
    "\n",
    "For this competition, you will be predicting a continuous target based on a number of feature columns given in the data. All of the feature columns, cat0 - cat9 are categorical, and the feature columns cont0 - cont13 are continuous."
   ]
  },
  {
   "cell_type": "markdown",
   "id": "aggressive-sandwich",
   "metadata": {},
   "source": [
    "This model yielded the below score on kaggle:\n",
    "<img src='v2 score.png'>"
   ]
  },
  {
   "cell_type": "markdown",
   "id": "provincial-minority",
   "metadata": {},
   "source": [
    "## Table of Contents  \n",
    "\n",
    "* [Import Libraries](#import_libraries)\n",
    "* [Import Data](#import_data)\n",
    "* [Create DataFrame and Descriptive Metrics](#create_dataframe)\n",
    "* [Data Preprocessing; check for nulls](#data_preprocessing)\n",
    "* [Exploratory Data Analysis](#explore_data)\n",
    "* [Converting Categorical Features](#convert_categorical)\n",
    "* [Oberservations & Feature Selection](#obs_feature_select)\n",
    "* [Standardize Data](#stadardize_data)\n",
    "* [Splitting the data into training and testing sets](#split_data)  \n",
    "XGBoost\n",
    "* [Restructure data into DMatrix](#DMatrix)\n",
    "* [Create and Train the Model](#train_model)\n",
    "* [Evaluation Metrics](#eval_metrics)\n",
    "* [Predictions from our Model](#predict)\n",
    "* [GridSearchCV](#grid_search)\n",
    "* [Predictions for Competition](#comp_pred)"
   ]
  },
  {
   "cell_type": "markdown",
   "id": "graphic-louis",
   "metadata": {},
   "source": [
    "<a class=\"anchor\" id=\"import_libraries\"></a>\n",
    "## Import Libraries"
   ]
  },
  {
   "cell_type": "code",
   "execution_count": 1,
   "id": "hungry-mortgage",
   "metadata": {},
   "outputs": [],
   "source": [
    "import pandas as pd\n",
    "import numpy as np\n",
    "import matplotlib.pyplot as plt\n",
    "import seaborn as sns\n",
    "import xgboost as xgb\n",
    "%matplotlib inline"
   ]
  },
  {
   "cell_type": "markdown",
   "id": "eligible-martin",
   "metadata": {},
   "source": [
    "<a class=\"anchor\" id=\"import_data\"></a>\n",
    "## Import Data"
   ]
  },
  {
   "cell_type": "markdown",
   "id": "promising-heritage",
   "metadata": {},
   "source": [
    "TRAINING DATA"
   ]
  },
  {
   "cell_type": "code",
   "execution_count": 2,
   "id": "egyptian-thermal",
   "metadata": {},
   "outputs": [],
   "source": [
    "df = pd.read_csv('train.csv',index_col='id')"
   ]
  },
  {
   "cell_type": "code",
   "execution_count": 3,
   "id": "hollow-headset",
   "metadata": {},
   "outputs": [
    {
     "data": {
      "text/html": [
       "<div>\n",
       "<style scoped>\n",
       "    .dataframe tbody tr th:only-of-type {\n",
       "        vertical-align: middle;\n",
       "    }\n",
       "\n",
       "    .dataframe tbody tr th {\n",
       "        vertical-align: top;\n",
       "    }\n",
       "\n",
       "    .dataframe thead th {\n",
       "        text-align: right;\n",
       "    }\n",
       "</style>\n",
       "<table border=\"1\" class=\"dataframe\">\n",
       "  <thead>\n",
       "    <tr style=\"text-align: right;\">\n",
       "      <th></th>\n",
       "      <th>cat0</th>\n",
       "      <th>cat1</th>\n",
       "      <th>cat2</th>\n",
       "      <th>cat3</th>\n",
       "      <th>cat4</th>\n",
       "      <th>cat5</th>\n",
       "      <th>cat6</th>\n",
       "      <th>cat7</th>\n",
       "      <th>cat8</th>\n",
       "      <th>cat9</th>\n",
       "      <th>...</th>\n",
       "      <th>cont5</th>\n",
       "      <th>cont6</th>\n",
       "      <th>cont7</th>\n",
       "      <th>cont8</th>\n",
       "      <th>cont9</th>\n",
       "      <th>cont10</th>\n",
       "      <th>cont11</th>\n",
       "      <th>cont12</th>\n",
       "      <th>cont13</th>\n",
       "      <th>target</th>\n",
       "    </tr>\n",
       "    <tr>\n",
       "      <th>id</th>\n",
       "      <th></th>\n",
       "      <th></th>\n",
       "      <th></th>\n",
       "      <th></th>\n",
       "      <th></th>\n",
       "      <th></th>\n",
       "      <th></th>\n",
       "      <th></th>\n",
       "      <th></th>\n",
       "      <th></th>\n",
       "      <th></th>\n",
       "      <th></th>\n",
       "      <th></th>\n",
       "      <th></th>\n",
       "      <th></th>\n",
       "      <th></th>\n",
       "      <th></th>\n",
       "      <th></th>\n",
       "      <th></th>\n",
       "      <th></th>\n",
       "      <th></th>\n",
       "    </tr>\n",
       "  </thead>\n",
       "  <tbody>\n",
       "    <tr>\n",
       "      <th>1</th>\n",
       "      <td>A</td>\n",
       "      <td>B</td>\n",
       "      <td>A</td>\n",
       "      <td>A</td>\n",
       "      <td>B</td>\n",
       "      <td>D</td>\n",
       "      <td>A</td>\n",
       "      <td>E</td>\n",
       "      <td>C</td>\n",
       "      <td>I</td>\n",
       "      <td>...</td>\n",
       "      <td>0.881122</td>\n",
       "      <td>0.421650</td>\n",
       "      <td>0.741413</td>\n",
       "      <td>0.895799</td>\n",
       "      <td>0.802461</td>\n",
       "      <td>0.724417</td>\n",
       "      <td>0.701915</td>\n",
       "      <td>0.877618</td>\n",
       "      <td>0.719903</td>\n",
       "      <td>6.994023</td>\n",
       "    </tr>\n",
       "    <tr>\n",
       "      <th>2</th>\n",
       "      <td>B</td>\n",
       "      <td>A</td>\n",
       "      <td>A</td>\n",
       "      <td>A</td>\n",
       "      <td>B</td>\n",
       "      <td>B</td>\n",
       "      <td>A</td>\n",
       "      <td>E</td>\n",
       "      <td>A</td>\n",
       "      <td>F</td>\n",
       "      <td>...</td>\n",
       "      <td>0.440011</td>\n",
       "      <td>0.346230</td>\n",
       "      <td>0.278495</td>\n",
       "      <td>0.593413</td>\n",
       "      <td>0.546056</td>\n",
       "      <td>0.613252</td>\n",
       "      <td>0.741289</td>\n",
       "      <td>0.326679</td>\n",
       "      <td>0.808464</td>\n",
       "      <td>8.071256</td>\n",
       "    </tr>\n",
       "    <tr>\n",
       "      <th>3</th>\n",
       "      <td>A</td>\n",
       "      <td>A</td>\n",
       "      <td>A</td>\n",
       "      <td>C</td>\n",
       "      <td>B</td>\n",
       "      <td>D</td>\n",
       "      <td>A</td>\n",
       "      <td>B</td>\n",
       "      <td>C</td>\n",
       "      <td>N</td>\n",
       "      <td>...</td>\n",
       "      <td>0.914155</td>\n",
       "      <td>0.369602</td>\n",
       "      <td>0.832564</td>\n",
       "      <td>0.865620</td>\n",
       "      <td>0.825251</td>\n",
       "      <td>0.264104</td>\n",
       "      <td>0.695561</td>\n",
       "      <td>0.869133</td>\n",
       "      <td>0.828352</td>\n",
       "      <td>5.760456</td>\n",
       "    </tr>\n",
       "    <tr>\n",
       "      <th>4</th>\n",
       "      <td>A</td>\n",
       "      <td>A</td>\n",
       "      <td>A</td>\n",
       "      <td>C</td>\n",
       "      <td>B</td>\n",
       "      <td>D</td>\n",
       "      <td>A</td>\n",
       "      <td>E</td>\n",
       "      <td>G</td>\n",
       "      <td>K</td>\n",
       "      <td>...</td>\n",
       "      <td>0.934138</td>\n",
       "      <td>0.578930</td>\n",
       "      <td>0.407313</td>\n",
       "      <td>0.868099</td>\n",
       "      <td>0.794402</td>\n",
       "      <td>0.494269</td>\n",
       "      <td>0.698125</td>\n",
       "      <td>0.809799</td>\n",
       "      <td>0.614766</td>\n",
       "      <td>7.806457</td>\n",
       "    </tr>\n",
       "    <tr>\n",
       "      <th>6</th>\n",
       "      <td>A</td>\n",
       "      <td>B</td>\n",
       "      <td>A</td>\n",
       "      <td>A</td>\n",
       "      <td>B</td>\n",
       "      <td>B</td>\n",
       "      <td>A</td>\n",
       "      <td>E</td>\n",
       "      <td>C</td>\n",
       "      <td>F</td>\n",
       "      <td>...</td>\n",
       "      <td>0.382600</td>\n",
       "      <td>0.705940</td>\n",
       "      <td>0.325193</td>\n",
       "      <td>0.440967</td>\n",
       "      <td>0.462146</td>\n",
       "      <td>0.724447</td>\n",
       "      <td>0.683073</td>\n",
       "      <td>0.343457</td>\n",
       "      <td>0.297743</td>\n",
       "      <td>6.868974</td>\n",
       "    </tr>\n",
       "  </tbody>\n",
       "</table>\n",
       "<p>5 rows × 25 columns</p>\n",
       "</div>"
      ],
      "text/plain": [
       "   cat0 cat1 cat2 cat3 cat4 cat5 cat6 cat7 cat8 cat9  ...     cont5     cont6  \\\n",
       "id                                                    ...                       \n",
       "1     A    B    A    A    B    D    A    E    C    I  ...  0.881122  0.421650   \n",
       "2     B    A    A    A    B    B    A    E    A    F  ...  0.440011  0.346230   \n",
       "3     A    A    A    C    B    D    A    B    C    N  ...  0.914155  0.369602   \n",
       "4     A    A    A    C    B    D    A    E    G    K  ...  0.934138  0.578930   \n",
       "6     A    B    A    A    B    B    A    E    C    F  ...  0.382600  0.705940   \n",
       "\n",
       "       cont7     cont8     cont9    cont10    cont11    cont12    cont13  \\\n",
       "id                                                                         \n",
       "1   0.741413  0.895799  0.802461  0.724417  0.701915  0.877618  0.719903   \n",
       "2   0.278495  0.593413  0.546056  0.613252  0.741289  0.326679  0.808464   \n",
       "3   0.832564  0.865620  0.825251  0.264104  0.695561  0.869133  0.828352   \n",
       "4   0.407313  0.868099  0.794402  0.494269  0.698125  0.809799  0.614766   \n",
       "6   0.325193  0.440967  0.462146  0.724447  0.683073  0.343457  0.297743   \n",
       "\n",
       "      target  \n",
       "id            \n",
       "1   6.994023  \n",
       "2   8.071256  \n",
       "3   5.760456  \n",
       "4   7.806457  \n",
       "6   6.868974  \n",
       "\n",
       "[5 rows x 25 columns]"
      ]
     },
     "execution_count": 3,
     "metadata": {},
     "output_type": "execute_result"
    }
   ],
   "source": [
    "df.head()"
   ]
  },
  {
   "cell_type": "markdown",
   "id": "indian-tsunami",
   "metadata": {},
   "source": [
    "TEST DATA"
   ]
  },
  {
   "cell_type": "code",
   "execution_count": 4,
   "id": "present-travel",
   "metadata": {},
   "outputs": [],
   "source": [
    "#import competition feature test set\n",
    "test = pd.read_csv('test.csv', index_col='id')"
   ]
  },
  {
   "cell_type": "markdown",
   "id": "statistical-fluid",
   "metadata": {},
   "source": [
    "<a class=\"anchor\" id=\"create_dataframe\"></a>\n",
    "## Create DataFrame and Descriptive Metrics"
   ]
  },
  {
   "cell_type": "code",
   "execution_count": 37,
   "id": "radical-vertex",
   "metadata": {},
   "outputs": [],
   "source": [
    "train=df.drop(['target'],axis=1)"
   ]
  },
  {
   "cell_type": "code",
   "execution_count": 6,
   "id": "dried-patrol",
   "metadata": {},
   "outputs": [
    {
     "data": {
      "text/html": [
       "<div>\n",
       "<style scoped>\n",
       "    .dataframe tbody tr th:only-of-type {\n",
       "        vertical-align: middle;\n",
       "    }\n",
       "\n",
       "    .dataframe tbody tr th {\n",
       "        vertical-align: top;\n",
       "    }\n",
       "\n",
       "    .dataframe thead th {\n",
       "        text-align: right;\n",
       "    }\n",
       "</style>\n",
       "<table border=\"1\" class=\"dataframe\">\n",
       "  <thead>\n",
       "    <tr style=\"text-align: right;\">\n",
       "      <th></th>\n",
       "      <th>cat0</th>\n",
       "      <th>cat1</th>\n",
       "      <th>cat2</th>\n",
       "      <th>cat3</th>\n",
       "      <th>cat4</th>\n",
       "      <th>cat5</th>\n",
       "      <th>cat6</th>\n",
       "      <th>cat7</th>\n",
       "      <th>cat8</th>\n",
       "      <th>cat9</th>\n",
       "      <th>...</th>\n",
       "      <th>cont4</th>\n",
       "      <th>cont5</th>\n",
       "      <th>cont6</th>\n",
       "      <th>cont7</th>\n",
       "      <th>cont8</th>\n",
       "      <th>cont9</th>\n",
       "      <th>cont10</th>\n",
       "      <th>cont11</th>\n",
       "      <th>cont12</th>\n",
       "      <th>cont13</th>\n",
       "    </tr>\n",
       "    <tr>\n",
       "      <th>id</th>\n",
       "      <th></th>\n",
       "      <th></th>\n",
       "      <th></th>\n",
       "      <th></th>\n",
       "      <th></th>\n",
       "      <th></th>\n",
       "      <th></th>\n",
       "      <th></th>\n",
       "      <th></th>\n",
       "      <th></th>\n",
       "      <th></th>\n",
       "      <th></th>\n",
       "      <th></th>\n",
       "      <th></th>\n",
       "      <th></th>\n",
       "      <th></th>\n",
       "      <th></th>\n",
       "      <th></th>\n",
       "      <th></th>\n",
       "      <th></th>\n",
       "      <th></th>\n",
       "    </tr>\n",
       "  </thead>\n",
       "  <tbody>\n",
       "    <tr>\n",
       "      <th>1</th>\n",
       "      <td>A</td>\n",
       "      <td>B</td>\n",
       "      <td>A</td>\n",
       "      <td>A</td>\n",
       "      <td>B</td>\n",
       "      <td>D</td>\n",
       "      <td>A</td>\n",
       "      <td>E</td>\n",
       "      <td>C</td>\n",
       "      <td>I</td>\n",
       "      <td>...</td>\n",
       "      <td>0.281421</td>\n",
       "      <td>0.881122</td>\n",
       "      <td>0.421650</td>\n",
       "      <td>0.741413</td>\n",
       "      <td>0.895799</td>\n",
       "      <td>0.802461</td>\n",
       "      <td>0.724417</td>\n",
       "      <td>0.701915</td>\n",
       "      <td>0.877618</td>\n",
       "      <td>0.719903</td>\n",
       "    </tr>\n",
       "    <tr>\n",
       "      <th>2</th>\n",
       "      <td>B</td>\n",
       "      <td>A</td>\n",
       "      <td>A</td>\n",
       "      <td>A</td>\n",
       "      <td>B</td>\n",
       "      <td>B</td>\n",
       "      <td>A</td>\n",
       "      <td>E</td>\n",
       "      <td>A</td>\n",
       "      <td>F</td>\n",
       "      <td>...</td>\n",
       "      <td>0.282354</td>\n",
       "      <td>0.440011</td>\n",
       "      <td>0.346230</td>\n",
       "      <td>0.278495</td>\n",
       "      <td>0.593413</td>\n",
       "      <td>0.546056</td>\n",
       "      <td>0.613252</td>\n",
       "      <td>0.741289</td>\n",
       "      <td>0.326679</td>\n",
       "      <td>0.808464</td>\n",
       "    </tr>\n",
       "    <tr>\n",
       "      <th>3</th>\n",
       "      <td>A</td>\n",
       "      <td>A</td>\n",
       "      <td>A</td>\n",
       "      <td>C</td>\n",
       "      <td>B</td>\n",
       "      <td>D</td>\n",
       "      <td>A</td>\n",
       "      <td>B</td>\n",
       "      <td>C</td>\n",
       "      <td>N</td>\n",
       "      <td>...</td>\n",
       "      <td>0.293756</td>\n",
       "      <td>0.914155</td>\n",
       "      <td>0.369602</td>\n",
       "      <td>0.832564</td>\n",
       "      <td>0.865620</td>\n",
       "      <td>0.825251</td>\n",
       "      <td>0.264104</td>\n",
       "      <td>0.695561</td>\n",
       "      <td>0.869133</td>\n",
       "      <td>0.828352</td>\n",
       "    </tr>\n",
       "    <tr>\n",
       "      <th>4</th>\n",
       "      <td>A</td>\n",
       "      <td>A</td>\n",
       "      <td>A</td>\n",
       "      <td>C</td>\n",
       "      <td>B</td>\n",
       "      <td>D</td>\n",
       "      <td>A</td>\n",
       "      <td>E</td>\n",
       "      <td>G</td>\n",
       "      <td>K</td>\n",
       "      <td>...</td>\n",
       "      <td>0.769785</td>\n",
       "      <td>0.934138</td>\n",
       "      <td>0.578930</td>\n",
       "      <td>0.407313</td>\n",
       "      <td>0.868099</td>\n",
       "      <td>0.794402</td>\n",
       "      <td>0.494269</td>\n",
       "      <td>0.698125</td>\n",
       "      <td>0.809799</td>\n",
       "      <td>0.614766</td>\n",
       "    </tr>\n",
       "    <tr>\n",
       "      <th>6</th>\n",
       "      <td>A</td>\n",
       "      <td>B</td>\n",
       "      <td>A</td>\n",
       "      <td>A</td>\n",
       "      <td>B</td>\n",
       "      <td>B</td>\n",
       "      <td>A</td>\n",
       "      <td>E</td>\n",
       "      <td>C</td>\n",
       "      <td>F</td>\n",
       "      <td>...</td>\n",
       "      <td>0.279105</td>\n",
       "      <td>0.382600</td>\n",
       "      <td>0.705940</td>\n",
       "      <td>0.325193</td>\n",
       "      <td>0.440967</td>\n",
       "      <td>0.462146</td>\n",
       "      <td>0.724447</td>\n",
       "      <td>0.683073</td>\n",
       "      <td>0.343457</td>\n",
       "      <td>0.297743</td>\n",
       "    </tr>\n",
       "  </tbody>\n",
       "</table>\n",
       "<p>5 rows × 24 columns</p>\n",
       "</div>"
      ],
      "text/plain": [
       "   cat0 cat1 cat2 cat3 cat4 cat5 cat6 cat7 cat8 cat9  ...     cont4     cont5  \\\n",
       "id                                                    ...                       \n",
       "1     A    B    A    A    B    D    A    E    C    I  ...  0.281421  0.881122   \n",
       "2     B    A    A    A    B    B    A    E    A    F  ...  0.282354  0.440011   \n",
       "3     A    A    A    C    B    D    A    B    C    N  ...  0.293756  0.914155   \n",
       "4     A    A    A    C    B    D    A    E    G    K  ...  0.769785  0.934138   \n",
       "6     A    B    A    A    B    B    A    E    C    F  ...  0.279105  0.382600   \n",
       "\n",
       "       cont6     cont7     cont8     cont9    cont10    cont11    cont12  \\\n",
       "id                                                                         \n",
       "1   0.421650  0.741413  0.895799  0.802461  0.724417  0.701915  0.877618   \n",
       "2   0.346230  0.278495  0.593413  0.546056  0.613252  0.741289  0.326679   \n",
       "3   0.369602  0.832564  0.865620  0.825251  0.264104  0.695561  0.869133   \n",
       "4   0.578930  0.407313  0.868099  0.794402  0.494269  0.698125  0.809799   \n",
       "6   0.705940  0.325193  0.440967  0.462146  0.724447  0.683073  0.343457   \n",
       "\n",
       "      cont13  \n",
       "id            \n",
       "1   0.719903  \n",
       "2   0.808464  \n",
       "3   0.828352  \n",
       "4   0.614766  \n",
       "6   0.297743  \n",
       "\n",
       "[5 rows x 24 columns]"
      ]
     },
     "execution_count": 6,
     "metadata": {},
     "output_type": "execute_result"
    }
   ],
   "source": [
    "train.head()"
   ]
  },
  {
   "cell_type": "code",
   "execution_count": 38,
   "id": "precise-treasurer",
   "metadata": {},
   "outputs": [],
   "source": [
    "train_labels=df['target']"
   ]
  },
  {
   "cell_type": "code",
   "execution_count": 8,
   "id": "tribal-separate",
   "metadata": {
    "scrolled": true
   },
   "outputs": [
    {
     "data": {
      "text/plain": [
       "id\n",
       "1    6.994023\n",
       "2    8.071256\n",
       "3    5.760456\n",
       "4    7.806457\n",
       "6    6.868974\n",
       "Name: target, dtype: float64"
      ]
     },
     "execution_count": 8,
     "metadata": {},
     "output_type": "execute_result"
    }
   ],
   "source": [
    "train_labels.head()"
   ]
  },
  {
   "cell_type": "code",
   "execution_count": 21,
   "id": "controversial-yesterday",
   "metadata": {},
   "outputs": [],
   "source": [
    "#train.info()"
   ]
  },
  {
   "cell_type": "code",
   "execution_count": 26,
   "id": "durable-custom",
   "metadata": {
    "scrolled": false
   },
   "outputs": [],
   "source": [
    "#train.describe()"
   ]
  },
  {
   "cell_type": "markdown",
   "id": "palestinian-turning",
   "metadata": {},
   "source": [
    "<a class=\"anchor\" id=\"data_preprocessing\"></a>\n",
    "## Data Preprocessing; check for nulls  "
   ]
  },
  {
   "cell_type": "code",
   "execution_count": 9,
   "id": "lasting-sunday",
   "metadata": {},
   "outputs": [
    {
     "data": {
      "text/plain": [
       "cat0      0\n",
       "cat1      0\n",
       "cat2      0\n",
       "cat3      0\n",
       "cat4      0\n",
       "cat5      0\n",
       "cat6      0\n",
       "cat7      0\n",
       "cat8      0\n",
       "cat9      0\n",
       "cont0     0\n",
       "cont1     0\n",
       "cont2     0\n",
       "cont3     0\n",
       "cont4     0\n",
       "cont5     0\n",
       "cont6     0\n",
       "cont7     0\n",
       "cont8     0\n",
       "cont9     0\n",
       "cont10    0\n",
       "cont11    0\n",
       "cont12    0\n",
       "cont13    0\n",
       "dtype: int64"
      ]
     },
     "execution_count": 9,
     "metadata": {},
     "output_type": "execute_result"
    }
   ],
   "source": [
    "train.isnull().sum()"
   ]
  },
  {
   "cell_type": "code",
   "execution_count": 10,
   "id": "affected-choir",
   "metadata": {},
   "outputs": [
    {
     "data": {
      "text/plain": [
       "cat0      0\n",
       "cat1      0\n",
       "cat2      0\n",
       "cat3      0\n",
       "cat4      0\n",
       "cat5      0\n",
       "cat6      0\n",
       "cat7      0\n",
       "cat8      0\n",
       "cat9      0\n",
       "cont0     0\n",
       "cont1     0\n",
       "cont2     0\n",
       "cont3     0\n",
       "cont4     0\n",
       "cont5     0\n",
       "cont6     0\n",
       "cont7     0\n",
       "cont8     0\n",
       "cont9     0\n",
       "cont10    0\n",
       "cont11    0\n",
       "cont12    0\n",
       "cont13    0\n",
       "dtype: int64"
      ]
     },
     "execution_count": 10,
     "metadata": {},
     "output_type": "execute_result"
    }
   ],
   "source": [
    "test.isnull().sum()"
   ]
  },
  {
   "cell_type": "markdown",
   "id": "informative-factory",
   "metadata": {},
   "source": [
    "<a class=\"anchor\" id=\"explore_data\"></a>\n",
    "## Exploratory Data Analysis"
   ]
  },
  {
   "cell_type": "markdown",
   "id": "vocal-wonder",
   "metadata": {},
   "source": [
    "<a class=\"anchor\" id=\"convert_categorical\"></a>\n",
    "## Converting Categorical Features\n",
    "Convert categorical features to dummy variables"
   ]
  },
  {
   "cell_type": "markdown",
   "id": "swiss-brunei",
   "metadata": {},
   "source": [
    "Identify categorigal features and check cardinality"
   ]
  },
  {
   "cell_type": "code",
   "execution_count": 13,
   "id": "super-lawyer",
   "metadata": {},
   "outputs": [
    {
     "name": "stdout",
     "output_type": "stream",
     "text": [
      "['cat0' 'cat1' 'cat2' 'cat3' 'cat4' 'cat5' 'cat6' 'cat7' 'cat8' 'cat9']\n"
     ]
    }
   ],
   "source": [
    "#Create array of only categorical (!= 'object') data types\n",
    "all_cat_feats = train.columns[train.dtypes == \"object\"].values\n",
    "print(all_cat_feats)"
   ]
  },
  {
   "cell_type": "markdown",
   "id": "circular-manchester",
   "metadata": {},
   "source": [
    "**COMPARE CARDINALITY OF TRAIN AND TEST DATASETS**"
   ]
  },
  {
   "cell_type": "code",
   "execution_count": 99,
   "id": "ethical-medicine",
   "metadata": {},
   "outputs": [],
   "source": [
    "#check cardinality of training features\n",
    "#for i in all_cat_feats:\n",
    "#    print(i, train[i].nunique(), test_values[i].nunique() )"
   ]
  },
  {
   "cell_type": "code",
   "execution_count": 14,
   "id": "excess-mechanism",
   "metadata": {},
   "outputs": [
    {
     "name": "stdout",
     "output_type": "stream",
     "text": [
      "cat6\n"
     ]
    }
   ],
   "source": [
    "#RETURN FEATURES WHEN CARDINATLITY DOES NOT MATCH B/W TRAIN & TEST DATA\n",
    "for i in all_cat_feats:\n",
    "    if train[i].nunique() != test[i].nunique():\n",
    "        print(i)"
   ]
  },
  {
   "cell_type": "markdown",
   "id": "everyday-stations",
   "metadata": {},
   "source": [
    "**CARDINALITY DOES NOT MATCH; WE'LL COMBINE TRAIN & TEST DATA SETS PRIOR TO CONVERTING CATEGORICAL FEATURES, THEN SPLIT BACK OUT**"
   ]
  },
  {
   "cell_type": "markdown",
   "id": "heavy-nigeria",
   "metadata": {},
   "source": [
    "ADD A COLUMN TO BOTH DATASETS TO ID WHICH DATASET IT IS (1=TRAIN, 0 = TEST); WE'LL LATER USE THIS TO ID AND SPLIT DATASETS BACK OUT"
   ]
  },
  {
   "cell_type": "code",
   "execution_count": 60,
   "id": "secure-spelling",
   "metadata": {},
   "outputs": [],
   "source": [
    "train['train']=1\n",
    "test['train']=0"
   ]
  },
  {
   "cell_type": "markdown",
   "id": "thick-teaching",
   "metadata": {},
   "source": [
    "COMBINE THE TRAIN & TEST DATASETS"
   ]
  },
  {
   "cell_type": "code",
   "execution_count": 61,
   "id": "ambient-watershed",
   "metadata": {},
   "outputs": [],
   "source": [
    "combined = pd.concat([train,test])"
   ]
  },
  {
   "cell_type": "code",
   "execution_count": 63,
   "id": "julian-optimization",
   "metadata": {},
   "outputs": [],
   "source": [
    "#combined.info()"
   ]
  },
  {
   "cell_type": "markdown",
   "id": "paperback-cooperation",
   "metadata": {},
   "source": [
    "ENCODE THE DESIRED FEATURE(S)"
   ]
  },
  {
   "cell_type": "code",
   "execution_count": 64,
   "id": "apart-feedback",
   "metadata": {},
   "outputs": [],
   "source": [
    "#create list of feature to encode\n",
    "onehot_columns = all_cat_feats\n",
    "#onehot_columns"
   ]
  },
  {
   "cell_type": "code",
   "execution_count": 65,
   "id": "shaped-swiss",
   "metadata": {},
   "outputs": [],
   "source": [
    "#create dataframe of features to encode\n",
    "onehot_df = combined[onehot_columns]"
   ]
  },
  {
   "cell_type": "code",
   "execution_count": 66,
   "id": "passive-failing",
   "metadata": {},
   "outputs": [],
   "source": [
    "#When converting binary categorical features with pd.get_dummies, to avoid multicoliniarity need to drop column(s) before fitting model, \n",
    "onehot_df = pd.get_dummies(onehot_df, columns = onehot_columns,drop_first=True)"
   ]
  },
  {
   "cell_type": "markdown",
   "id": "directed-korea",
   "metadata": {},
   "source": [
    "DROP ORIGINALS FROM THE DATAFRAME"
   ]
  },
  {
   "cell_type": "code",
   "execution_count": 68,
   "id": "mature-tract",
   "metadata": {},
   "outputs": [],
   "source": [
    "#drop the original features from the dataframe\n",
    "combined_onehot_drop = combined.drop(onehot_columns, axis = 1)"
   ]
  },
  {
   "cell_type": "code",
   "execution_count": 73,
   "id": "forty-cliff",
   "metadata": {},
   "outputs": [],
   "source": [
    "#combined_onehot_drop.info()\n",
    "#onehot_df"
   ]
  },
  {
   "cell_type": "markdown",
   "id": "exciting-appointment",
   "metadata": {},
   "source": [
    "ADD THE NEW ENCODED FEATURES WITH THE 'COMBINED' DATASET"
   ]
  },
  {
   "cell_type": "code",
   "execution_count": 74,
   "id": "foreign-tattoo",
   "metadata": {},
   "outputs": [],
   "source": [
    "#Add back in the dummy variable features\n",
    "combined_onehot = pd.concat([combined_onehot_drop, onehot_df], axis = 1)"
   ]
  },
  {
   "cell_type": "markdown",
   "id": "acute-million",
   "metadata": {},
   "source": [
    "SPLIT BACK INTO SEPARATE TRAIN & TEST DATASETS"
   ]
  },
  {
   "cell_type": "code",
   "execution_count": 80,
   "id": "casual-welsh",
   "metadata": {},
   "outputs": [
    {
     "name": "stderr",
     "output_type": "stream",
     "text": [
      "c:\\users\\devin\\appdata\\local\\programs\\python\\python38\\lib\\site-packages\\pandas\\core\\frame.py:4305: SettingWithCopyWarning: \n",
      "A value is trying to be set on a copy of a slice from a DataFrame\n",
      "\n",
      "See the caveats in the documentation: https://pandas.pydata.org/pandas-docs/stable/user_guide/indexing.html#returning-a-view-versus-a-copy\n",
      "  return super().drop(\n"
     ]
    }
   ],
   "source": [
    "#split based on the 'train' column we created above to differentiate the datasets\n",
    "train_df = combined_onehot[combined_onehot['train']==1]\n",
    "test_df = combined_onehot[combined_onehot['train']==0]\n",
    "\n",
    "#drop the 'train' id column\n",
    "train_df.drop(['train'],axis=1,inplace=True)\n",
    "test_df.drop(['train'],axis=1,inplace=True)"
   ]
  },
  {
   "cell_type": "markdown",
   "id": "automatic-namibia",
   "metadata": {},
   "source": [
    "CHECK SHAPE OF DATASETS"
   ]
  },
  {
   "cell_type": "code",
   "execution_count": 81,
   "id": "consistent-advice",
   "metadata": {
    "scrolled": true
   },
   "outputs": [
    {
     "data": {
      "text/plain": [
       "(300000, 60)"
      ]
     },
     "execution_count": 81,
     "metadata": {},
     "output_type": "execute_result"
    }
   ],
   "source": [
    "train_df.shape"
   ]
  },
  {
   "cell_type": "code",
   "execution_count": 82,
   "id": "detected-association",
   "metadata": {
    "scrolled": true
   },
   "outputs": [
    {
     "data": {
      "text/plain": [
       "(200000, 60)"
      ]
     },
     "execution_count": 82,
     "metadata": {},
     "output_type": "execute_result"
    }
   ],
   "source": [
    "test_df.shape"
   ]
  },
  {
   "cell_type": "code",
   "execution_count": 83,
   "id": "confidential-giant",
   "metadata": {},
   "outputs": [
    {
     "data": {
      "text/html": [
       "<div>\n",
       "<style scoped>\n",
       "    .dataframe tbody tr th:only-of-type {\n",
       "        vertical-align: middle;\n",
       "    }\n",
       "\n",
       "    .dataframe tbody tr th {\n",
       "        vertical-align: top;\n",
       "    }\n",
       "\n",
       "    .dataframe thead th {\n",
       "        text-align: right;\n",
       "    }\n",
       "</style>\n",
       "<table border=\"1\" class=\"dataframe\">\n",
       "  <thead>\n",
       "    <tr style=\"text-align: right;\">\n",
       "      <th></th>\n",
       "      <th>cont0</th>\n",
       "      <th>cont1</th>\n",
       "      <th>cont2</th>\n",
       "      <th>cont3</th>\n",
       "      <th>cont4</th>\n",
       "      <th>cont5</th>\n",
       "      <th>cont6</th>\n",
       "      <th>cont7</th>\n",
       "      <th>cont8</th>\n",
       "      <th>cont9</th>\n",
       "      <th>...</th>\n",
       "      <th>cat9_F</th>\n",
       "      <th>cat9_G</th>\n",
       "      <th>cat9_H</th>\n",
       "      <th>cat9_I</th>\n",
       "      <th>cat9_J</th>\n",
       "      <th>cat9_K</th>\n",
       "      <th>cat9_L</th>\n",
       "      <th>cat9_M</th>\n",
       "      <th>cat9_N</th>\n",
       "      <th>cat9_O</th>\n",
       "    </tr>\n",
       "    <tr>\n",
       "      <th>id</th>\n",
       "      <th></th>\n",
       "      <th></th>\n",
       "      <th></th>\n",
       "      <th></th>\n",
       "      <th></th>\n",
       "      <th></th>\n",
       "      <th></th>\n",
       "      <th></th>\n",
       "      <th></th>\n",
       "      <th></th>\n",
       "      <th></th>\n",
       "      <th></th>\n",
       "      <th></th>\n",
       "      <th></th>\n",
       "      <th></th>\n",
       "      <th></th>\n",
       "      <th></th>\n",
       "      <th></th>\n",
       "      <th></th>\n",
       "      <th></th>\n",
       "      <th></th>\n",
       "    </tr>\n",
       "  </thead>\n",
       "  <tbody>\n",
       "    <tr>\n",
       "      <th>1</th>\n",
       "      <td>0.923191</td>\n",
       "      <td>0.684968</td>\n",
       "      <td>0.124454</td>\n",
       "      <td>0.217886</td>\n",
       "      <td>0.281421</td>\n",
       "      <td>0.881122</td>\n",
       "      <td>0.421650</td>\n",
       "      <td>0.741413</td>\n",
       "      <td>0.895799</td>\n",
       "      <td>0.802461</td>\n",
       "      <td>...</td>\n",
       "      <td>0</td>\n",
       "      <td>0</td>\n",
       "      <td>0</td>\n",
       "      <td>1</td>\n",
       "      <td>0</td>\n",
       "      <td>0</td>\n",
       "      <td>0</td>\n",
       "      <td>0</td>\n",
       "      <td>0</td>\n",
       "      <td>0</td>\n",
       "    </tr>\n",
       "    <tr>\n",
       "      <th>2</th>\n",
       "      <td>0.437627</td>\n",
       "      <td>0.014213</td>\n",
       "      <td>0.357438</td>\n",
       "      <td>0.846127</td>\n",
       "      <td>0.282354</td>\n",
       "      <td>0.440011</td>\n",
       "      <td>0.346230</td>\n",
       "      <td>0.278495</td>\n",
       "      <td>0.593413</td>\n",
       "      <td>0.546056</td>\n",
       "      <td>...</td>\n",
       "      <td>1</td>\n",
       "      <td>0</td>\n",
       "      <td>0</td>\n",
       "      <td>0</td>\n",
       "      <td>0</td>\n",
       "      <td>0</td>\n",
       "      <td>0</td>\n",
       "      <td>0</td>\n",
       "      <td>0</td>\n",
       "      <td>0</td>\n",
       "    </tr>\n",
       "    <tr>\n",
       "      <th>3</th>\n",
       "      <td>0.732209</td>\n",
       "      <td>0.760122</td>\n",
       "      <td>0.454644</td>\n",
       "      <td>0.812990</td>\n",
       "      <td>0.293756</td>\n",
       "      <td>0.914155</td>\n",
       "      <td>0.369602</td>\n",
       "      <td>0.832564</td>\n",
       "      <td>0.865620</td>\n",
       "      <td>0.825251</td>\n",
       "      <td>...</td>\n",
       "      <td>0</td>\n",
       "      <td>0</td>\n",
       "      <td>0</td>\n",
       "      <td>0</td>\n",
       "      <td>0</td>\n",
       "      <td>0</td>\n",
       "      <td>0</td>\n",
       "      <td>0</td>\n",
       "      <td>1</td>\n",
       "      <td>0</td>\n",
       "    </tr>\n",
       "    <tr>\n",
       "      <th>4</th>\n",
       "      <td>0.705142</td>\n",
       "      <td>0.771678</td>\n",
       "      <td>0.153735</td>\n",
       "      <td>0.732893</td>\n",
       "      <td>0.769785</td>\n",
       "      <td>0.934138</td>\n",
       "      <td>0.578930</td>\n",
       "      <td>0.407313</td>\n",
       "      <td>0.868099</td>\n",
       "      <td>0.794402</td>\n",
       "      <td>...</td>\n",
       "      <td>0</td>\n",
       "      <td>0</td>\n",
       "      <td>0</td>\n",
       "      <td>0</td>\n",
       "      <td>0</td>\n",
       "      <td>1</td>\n",
       "      <td>0</td>\n",
       "      <td>0</td>\n",
       "      <td>0</td>\n",
       "      <td>0</td>\n",
       "    </tr>\n",
       "    <tr>\n",
       "      <th>6</th>\n",
       "      <td>0.486063</td>\n",
       "      <td>0.639349</td>\n",
       "      <td>0.496212</td>\n",
       "      <td>0.354186</td>\n",
       "      <td>0.279105</td>\n",
       "      <td>0.382600</td>\n",
       "      <td>0.705940</td>\n",
       "      <td>0.325193</td>\n",
       "      <td>0.440967</td>\n",
       "      <td>0.462146</td>\n",
       "      <td>...</td>\n",
       "      <td>1</td>\n",
       "      <td>0</td>\n",
       "      <td>0</td>\n",
       "      <td>0</td>\n",
       "      <td>0</td>\n",
       "      <td>0</td>\n",
       "      <td>0</td>\n",
       "      <td>0</td>\n",
       "      <td>0</td>\n",
       "      <td>0</td>\n",
       "    </tr>\n",
       "  </tbody>\n",
       "</table>\n",
       "<p>5 rows × 60 columns</p>\n",
       "</div>"
      ],
      "text/plain": [
       "       cont0     cont1     cont2     cont3     cont4     cont5     cont6  \\\n",
       "id                                                                         \n",
       "1   0.923191  0.684968  0.124454  0.217886  0.281421  0.881122  0.421650   \n",
       "2   0.437627  0.014213  0.357438  0.846127  0.282354  0.440011  0.346230   \n",
       "3   0.732209  0.760122  0.454644  0.812990  0.293756  0.914155  0.369602   \n",
       "4   0.705142  0.771678  0.153735  0.732893  0.769785  0.934138  0.578930   \n",
       "6   0.486063  0.639349  0.496212  0.354186  0.279105  0.382600  0.705940   \n",
       "\n",
       "       cont7     cont8     cont9  ...  cat9_F  cat9_G  cat9_H  cat9_I  cat9_J  \\\n",
       "id                                ...                                           \n",
       "1   0.741413  0.895799  0.802461  ...       0       0       0       1       0   \n",
       "2   0.278495  0.593413  0.546056  ...       1       0       0       0       0   \n",
       "3   0.832564  0.865620  0.825251  ...       0       0       0       0       0   \n",
       "4   0.407313  0.868099  0.794402  ...       0       0       0       0       0   \n",
       "6   0.325193  0.440967  0.462146  ...       1       0       0       0       0   \n",
       "\n",
       "    cat9_K  cat9_L  cat9_M  cat9_N  cat9_O  \n",
       "id                                          \n",
       "1        0       0       0       0       0  \n",
       "2        0       0       0       0       0  \n",
       "3        0       0       0       1       0  \n",
       "4        1       0       0       0       0  \n",
       "6        0       0       0       0       0  \n",
       "\n",
       "[5 rows x 60 columns]"
      ]
     },
     "execution_count": 83,
     "metadata": {},
     "output_type": "execute_result"
    }
   ],
   "source": [
    "train_df.head()"
   ]
  },
  {
   "cell_type": "markdown",
   "id": "closing-exposure",
   "metadata": {},
   "source": [
    "<a class=\"anchor\" id=\"stadardize_data\"></a>\n",
    "## Standardize Data"
   ]
  },
  {
   "cell_type": "code",
   "execution_count": 84,
   "id": "changing-piano",
   "metadata": {},
   "outputs": [],
   "source": [
    "from sklearn import preprocessing"
   ]
  },
  {
   "cell_type": "code",
   "execution_count": 85,
   "id": "plain-drove",
   "metadata": {},
   "outputs": [],
   "source": [
    "scaler = preprocessing.StandardScaler()"
   ]
  },
  {
   "cell_type": "code",
   "execution_count": 86,
   "id": "alive-costume",
   "metadata": {},
   "outputs": [
    {
     "data": {
      "text/plain": [
       "StandardScaler()"
      ]
     },
     "execution_count": 86,
     "metadata": {},
     "output_type": "execute_result"
    }
   ],
   "source": [
    "scaler.fit(train_df)"
   ]
  },
  {
   "cell_type": "code",
   "execution_count": 87,
   "id": "faced-japanese",
   "metadata": {},
   "outputs": [],
   "source": [
    "X_scaled = scaler.transform(train_df)"
   ]
  },
  {
   "cell_type": "code",
   "execution_count": 88,
   "id": "polar-class",
   "metadata": {},
   "outputs": [
    {
     "data": {
      "text/plain": [
       "numpy.ndarray"
      ]
     },
     "execution_count": 88,
     "metadata": {},
     "output_type": "execute_result"
    }
   ],
   "source": [
    "type(X_scaled)"
   ]
  },
  {
   "cell_type": "code",
   "execution_count": 89,
   "id": "quantitative-cutting",
   "metadata": {},
   "outputs": [],
   "source": [
    "#Converting numpy array to dataframe\n",
    "X_scaled_df = pd.DataFrame(X_scaled, index=train_df.index, columns=train_df.columns) "
   ]
  },
  {
   "cell_type": "code",
   "execution_count": 90,
   "id": "unusual-coverage",
   "metadata": {},
   "outputs": [
    {
     "data": {
      "text/html": [
       "<div>\n",
       "<style scoped>\n",
       "    .dataframe tbody tr th:only-of-type {\n",
       "        vertical-align: middle;\n",
       "    }\n",
       "\n",
       "    .dataframe tbody tr th {\n",
       "        vertical-align: top;\n",
       "    }\n",
       "\n",
       "    .dataframe thead th {\n",
       "        text-align: right;\n",
       "    }\n",
       "</style>\n",
       "<table border=\"1\" class=\"dataframe\">\n",
       "  <thead>\n",
       "    <tr style=\"text-align: right;\">\n",
       "      <th></th>\n",
       "      <th>cont0</th>\n",
       "      <th>cont1</th>\n",
       "      <th>cont2</th>\n",
       "      <th>cont3</th>\n",
       "      <th>cont4</th>\n",
       "      <th>cont5</th>\n",
       "      <th>cont6</th>\n",
       "      <th>cont7</th>\n",
       "      <th>cont8</th>\n",
       "      <th>cont9</th>\n",
       "      <th>...</th>\n",
       "      <th>cat9_F</th>\n",
       "      <th>cat9_G</th>\n",
       "      <th>cat9_H</th>\n",
       "      <th>cat9_I</th>\n",
       "      <th>cat9_J</th>\n",
       "      <th>cat9_K</th>\n",
       "      <th>cat9_L</th>\n",
       "      <th>cat9_M</th>\n",
       "      <th>cat9_N</th>\n",
       "      <th>cat9_O</th>\n",
       "    </tr>\n",
       "    <tr>\n",
       "      <th>id</th>\n",
       "      <th></th>\n",
       "      <th></th>\n",
       "      <th></th>\n",
       "      <th></th>\n",
       "      <th></th>\n",
       "      <th></th>\n",
       "      <th></th>\n",
       "      <th></th>\n",
       "      <th></th>\n",
       "      <th></th>\n",
       "      <th></th>\n",
       "      <th></th>\n",
       "      <th></th>\n",
       "      <th></th>\n",
       "      <th></th>\n",
       "      <th></th>\n",
       "      <th></th>\n",
       "      <th></th>\n",
       "      <th></th>\n",
       "      <th></th>\n",
       "      <th></th>\n",
       "    </tr>\n",
       "  </thead>\n",
       "  <tbody>\n",
       "    <tr>\n",
       "      <th>1</th>\n",
       "      <td>1.945372</td>\n",
       "      <td>0.757938</td>\n",
       "      <td>-1.597601</td>\n",
       "      <td>-0.956673</td>\n",
       "      <td>-0.867238</td>\n",
       "      <td>1.609527</td>\n",
       "      <td>-0.294623</td>\n",
       "      <td>1.396184</td>\n",
       "      <td>1.978227</td>\n",
       "      <td>1.350628</td>\n",
       "      <td>...</td>\n",
       "      <td>-0.746104</td>\n",
       "      <td>-0.189588</td>\n",
       "      <td>-0.299923</td>\n",
       "      <td>2.234352</td>\n",
       "      <td>-0.154352</td>\n",
       "      <td>-0.274035</td>\n",
       "      <td>-0.40459</td>\n",
       "      <td>-0.184134</td>\n",
       "      <td>-0.117886</td>\n",
       "      <td>-0.144945</td>\n",
       "    </tr>\n",
       "    <tr>\n",
       "      <th>2</th>\n",
       "      <td>-0.424682</td>\n",
       "      <td>-2.093075</td>\n",
       "      <td>-0.433193</td>\n",
       "      <td>1.675598</td>\n",
       "      <td>-0.862591</td>\n",
       "      <td>-0.295002</td>\n",
       "      <td>-0.686557</td>\n",
       "      <td>-0.867560</td>\n",
       "      <td>0.607739</td>\n",
       "      <td>0.093896</td>\n",
       "      <td>...</td>\n",
       "      <td>1.340296</td>\n",
       "      <td>-0.189588</td>\n",
       "      <td>-0.299923</td>\n",
       "      <td>-0.447557</td>\n",
       "      <td>-0.154352</td>\n",
       "      <td>-0.274035</td>\n",
       "      <td>-0.40459</td>\n",
       "      <td>-0.184134</td>\n",
       "      <td>-0.117886</td>\n",
       "      <td>-0.144945</td>\n",
       "    </tr>\n",
       "    <tr>\n",
       "      <th>3</th>\n",
       "      <td>1.013181</td>\n",
       "      <td>1.077375</td>\n",
       "      <td>0.052623</td>\n",
       "      <td>1.536759</td>\n",
       "      <td>-0.805777</td>\n",
       "      <td>1.752148</td>\n",
       "      <td>-0.565102</td>\n",
       "      <td>1.841928</td>\n",
       "      <td>1.841445</td>\n",
       "      <td>1.462334</td>\n",
       "      <td>...</td>\n",
       "      <td>-0.746104</td>\n",
       "      <td>-0.189588</td>\n",
       "      <td>-0.299923</td>\n",
       "      <td>-0.447557</td>\n",
       "      <td>-0.154352</td>\n",
       "      <td>-0.274035</td>\n",
       "      <td>-0.40459</td>\n",
       "      <td>-0.184134</td>\n",
       "      <td>8.482759</td>\n",
       "      <td>-0.144945</td>\n",
       "    </tr>\n",
       "    <tr>\n",
       "      <th>4</th>\n",
       "      <td>0.881067</td>\n",
       "      <td>1.126494</td>\n",
       "      <td>-1.451257</td>\n",
       "      <td>1.201160</td>\n",
       "      <td>1.566127</td>\n",
       "      <td>1.838425</td>\n",
       "      <td>0.522703</td>\n",
       "      <td>-0.237621</td>\n",
       "      <td>1.852684</td>\n",
       "      <td>1.311128</td>\n",
       "      <td>...</td>\n",
       "      <td>-0.746104</td>\n",
       "      <td>-0.189588</td>\n",
       "      <td>-0.299923</td>\n",
       "      <td>-0.447557</td>\n",
       "      <td>-0.154352</td>\n",
       "      <td>3.649163</td>\n",
       "      <td>-0.40459</td>\n",
       "      <td>-0.184134</td>\n",
       "      <td>-0.117886</td>\n",
       "      <td>-0.144945</td>\n",
       "    </tr>\n",
       "    <tr>\n",
       "      <th>6</th>\n",
       "      <td>-0.188265</td>\n",
       "      <td>0.564033</td>\n",
       "      <td>0.260374</td>\n",
       "      <td>-0.385590</td>\n",
       "      <td>-0.878778</td>\n",
       "      <td>-0.542878</td>\n",
       "      <td>1.182729</td>\n",
       "      <td>-0.639198</td>\n",
       "      <td>-0.083184</td>\n",
       "      <td>-0.317379</td>\n",
       "      <td>...</td>\n",
       "      <td>1.340296</td>\n",
       "      <td>-0.189588</td>\n",
       "      <td>-0.299923</td>\n",
       "      <td>-0.447557</td>\n",
       "      <td>-0.154352</td>\n",
       "      <td>-0.274035</td>\n",
       "      <td>-0.40459</td>\n",
       "      <td>-0.184134</td>\n",
       "      <td>-0.117886</td>\n",
       "      <td>-0.144945</td>\n",
       "    </tr>\n",
       "  </tbody>\n",
       "</table>\n",
       "<p>5 rows × 60 columns</p>\n",
       "</div>"
      ],
      "text/plain": [
       "       cont0     cont1     cont2     cont3     cont4     cont5     cont6  \\\n",
       "id                                                                         \n",
       "1   1.945372  0.757938 -1.597601 -0.956673 -0.867238  1.609527 -0.294623   \n",
       "2  -0.424682 -2.093075 -0.433193  1.675598 -0.862591 -0.295002 -0.686557   \n",
       "3   1.013181  1.077375  0.052623  1.536759 -0.805777  1.752148 -0.565102   \n",
       "4   0.881067  1.126494 -1.451257  1.201160  1.566127  1.838425  0.522703   \n",
       "6  -0.188265  0.564033  0.260374 -0.385590 -0.878778 -0.542878  1.182729   \n",
       "\n",
       "       cont7     cont8     cont9  ...    cat9_F    cat9_G    cat9_H    cat9_I  \\\n",
       "id                                ...                                           \n",
       "1   1.396184  1.978227  1.350628  ... -0.746104 -0.189588 -0.299923  2.234352   \n",
       "2  -0.867560  0.607739  0.093896  ...  1.340296 -0.189588 -0.299923 -0.447557   \n",
       "3   1.841928  1.841445  1.462334  ... -0.746104 -0.189588 -0.299923 -0.447557   \n",
       "4  -0.237621  1.852684  1.311128  ... -0.746104 -0.189588 -0.299923 -0.447557   \n",
       "6  -0.639198 -0.083184 -0.317379  ...  1.340296 -0.189588 -0.299923 -0.447557   \n",
       "\n",
       "      cat9_J    cat9_K   cat9_L    cat9_M    cat9_N    cat9_O  \n",
       "id                                                             \n",
       "1  -0.154352 -0.274035 -0.40459 -0.184134 -0.117886 -0.144945  \n",
       "2  -0.154352 -0.274035 -0.40459 -0.184134 -0.117886 -0.144945  \n",
       "3  -0.154352 -0.274035 -0.40459 -0.184134  8.482759 -0.144945  \n",
       "4  -0.154352  3.649163 -0.40459 -0.184134 -0.117886 -0.144945  \n",
       "6  -0.154352 -0.274035 -0.40459 -0.184134 -0.117886 -0.144945  \n",
       "\n",
       "[5 rows x 60 columns]"
      ]
     },
     "execution_count": 90,
     "metadata": {},
     "output_type": "execute_result"
    }
   ],
   "source": [
    "X_scaled_df.head()"
   ]
  },
  {
   "cell_type": "markdown",
   "id": "limited-tyler",
   "metadata": {},
   "source": [
    "<a class=\"anchor\" id=\"split_data\"></a>\n",
    "## Splitting the data into training and testing sets"
   ]
  },
  {
   "cell_type": "code",
   "execution_count": 91,
   "id": "foreign-hawaii",
   "metadata": {},
   "outputs": [],
   "source": [
    "from sklearn.model_selection import train_test_split"
   ]
  },
  {
   "cell_type": "code",
   "execution_count": 92,
   "id": "horizontal-haiti",
   "metadata": {},
   "outputs": [],
   "source": [
    "X = X_scaled_df\n",
    "y = train_labels"
   ]
  },
  {
   "cell_type": "code",
   "execution_count": 93,
   "id": "hybrid-technology",
   "metadata": {},
   "outputs": [],
   "source": [
    "X_train, X_test, y_train, y_test = train_test_split(X, y, test_size=0.3, random_state=5)"
   ]
  },
  {
   "cell_type": "markdown",
   "id": "genuine-batman",
   "metadata": {},
   "source": [
    "<a class=\"anchor\" id=\"DMatrix\"></a>\n",
    "## Restructure data into DMatrix"
   ]
  },
  {
   "cell_type": "code",
   "execution_count": 96,
   "id": "hydraulic-mailman",
   "metadata": {},
   "outputs": [],
   "source": [
    "#X_train.columns"
   ]
  },
  {
   "cell_type": "code",
   "execution_count": 95,
   "id": "enabling-projector",
   "metadata": {},
   "outputs": [],
   "source": [
    "D_train = xgb.DMatrix(X_train, label=y_train)\n",
    "D_test = xgb.DMatrix(X_test, label=y_test)"
   ]
  },
  {
   "cell_type": "markdown",
   "id": "closed-taxation",
   "metadata": {},
   "source": [
    "<a class=\"anchor\" id=\"train_model\"></a>\n",
    "## Create and Train the Model"
   ]
  },
  {
   "cell_type": "markdown",
   "id": "exact-valentine",
   "metadata": {},
   "source": [
    "Instantiate Model"
   ]
  },
  {
   "cell_type": "code",
   "execution_count": 133,
   "id": "traditional-approval",
   "metadata": {},
   "outputs": [],
   "source": [
    "xgb_r = xgb.XGBRegressor(objective ='reg:linear', n_estimators = 10, seed = 123)"
   ]
  },
  {
   "cell_type": "code",
   "execution_count": 134,
   "id": "hazardous-significance",
   "metadata": {},
   "outputs": [
    {
     "name": "stdout",
     "output_type": "stream",
     "text": [
      "[12:22:15] WARNING: C:/Users/Administrator/workspace/xgboost-win64_release_1.3.0/src/objective/regression_obj.cu:170: reg:linear is now deprecated in favor of reg:squarederror.\n"
     ]
    },
    {
     "data": {
      "text/plain": [
       "XGBRegressor(base_score=0.5, booster='gbtree', colsample_bylevel=1,\n",
       "             colsample_bynode=1, colsample_bytree=1, gamma=0, gpu_id=-1,\n",
       "             importance_type='gain', interaction_constraints='',\n",
       "             learning_rate=0.300000012, max_delta_step=0, max_depth=6,\n",
       "             min_child_weight=1, missing=nan, monotone_constraints='()',\n",
       "             n_estimators=10, n_jobs=4, num_parallel_tree=1,\n",
       "             objective='reg:linear', random_state=123, reg_alpha=0,\n",
       "             reg_lambda=1, scale_pos_weight=1, seed=123, subsample=1,\n",
       "             tree_method='exact', validate_parameters=1, verbosity=None)"
      ]
     },
     "execution_count": 134,
     "metadata": {},
     "output_type": "execute_result"
    }
   ],
   "source": [
    "# Fitting the model \n",
    "xgb_r.fit(X_train, y_train) "
   ]
  },
  {
   "cell_type": "markdown",
   "id": "historic-blank",
   "metadata": {},
   "source": [
    "<a class=\"anchor\" id=\"eval_metrics\"></a>\n",
    "## Evaluation Metrics"
   ]
  },
  {
   "cell_type": "code",
   "execution_count": 113,
   "id": "minor-establishment",
   "metadata": {},
   "outputs": [],
   "source": [
    "from sklearn import metrics "
   ]
  },
  {
   "cell_type": "code",
   "execution_count": 135,
   "id": "individual-drilling",
   "metadata": {},
   "outputs": [],
   "source": [
    "# Predict the model \n",
    "predictions = xgb_r.predict(X_test) "
   ]
  },
  {
   "cell_type": "code",
   "execution_count": 136,
   "id": "reduced-jungle",
   "metadata": {},
   "outputs": [
    {
     "name": "stdout",
     "output_type": "stream",
     "text": [
      "MAE: 0.7341425891781179\n",
      "MSE: 0.7713166950360943\n",
      "RMSE: 0.8782463749063211\n"
     ]
    }
   ],
   "source": [
    "# RMSE Computation \n",
    "print('MAE:', metrics.mean_absolute_error(y_test, predictions))\n",
    "print('MSE:', metrics.mean_squared_error(y_test, predictions))\n",
    "print('RMSE:', np.sqrt(metrics.mean_squared_error(y_test, predictions)))"
   ]
  },
  {
   "cell_type": "markdown",
   "id": "perceived-september",
   "metadata": {},
   "source": [
    "<a class=\"anchor\" id=\"predict\"></a>\n",
    "## Predictions from our Model"
   ]
  },
  {
   "cell_type": "code",
   "execution_count": 153,
   "id": "official-matthew",
   "metadata": {},
   "outputs": [],
   "source": [
    "#pass in data the model hasn't seen before (feature data set of our test data)\n",
    "#predictions = xgb_r.predict(X_test) "
   ]
  },
  {
   "cell_type": "code",
   "execution_count": 125,
   "id": "technological-palestinian",
   "metadata": {},
   "outputs": [
    {
     "data": {
      "text/plain": [
       "<matplotlib.collections.PathCollection at 0x28090206430>"
      ]
     },
     "execution_count": 125,
     "metadata": {},
     "output_type": "execute_result"
    },
    {
     "data": {
      "image/png": "[encoded data removed]",
      "text/plain": [
       "<Figure size 432x288 with 1 Axes>"
      ]
     },
     "metadata": {
      "needs_background": "light"
     },
     "output_type": "display_data"
    }
   ],
   "source": [
    "#compare predictions agains actual labels using a scatter plot, the more linear = the more accurate/correct predictions\n",
    "plt.scatter(y_test,predictions)"
   ]
  },
  {
   "cell_type": "markdown",
   "id": "forced-louisville",
   "metadata": {},
   "source": [
    "**Residual Histogram**"
   ]
  },
  {
   "cell_type": "code",
   "execution_count": 126,
   "id": "driven-slave",
   "metadata": {},
   "outputs": [
    {
     "data": {
      "image/png": "[encoded data removed]",
      "text/plain": [
       "<Figure size 360x360 with 1 Axes>"
      ]
     },
     "metadata": {
      "needs_background": "light"
     },
     "output_type": "display_data"
    }
   ],
   "source": [
    "#create a histogram of the residuals (difference/error b/w actuals and predictions )\n",
    "\n",
    "#if residuals are normally distributed (or approximate), then the model was the correct choice for the data; if not consider a different type of model\n",
    "sns.displot((y_test-predictions),bins=50);"
   ]
  },
  {
   "cell_type": "markdown",
   "id": "younger-shuttle",
   "metadata": {},
   "source": [
    "<a class=\"anchor\" id=\"grid_search\"></a>\n",
    "## GridSearchCV"
   ]
  },
  {
   "cell_type": "markdown",
   "id": "numerous-correspondence",
   "metadata": {},
   "source": [
    "Reference the offical documentation here [XGBoost Parameters](https://xgboost.readthedocs.io/en/latest/parameter.html)"
   ]
  },
  {
   "cell_type": "markdown",
   "id": "forward-trance",
   "metadata": {},
   "source": [
    "   **eta**: (aka 'learning rate') gives us a chance to prevent overfitting by reducing the weight of the predictions of the new \n",
    "    trees; eta will be multiplied by the residuals being adding to reduce their weight; this effectively reduces the complexity \n",
    "    of the overall model.  \n",
    "    **max_depth**: maximum depth of the decision trees being trained  \n",
    "    **objective**: the loss function being used  \n",
    "    **num_class**: the number of classes in the dataset "
   ]
  },
  {
   "cell_type": "code",
   "execution_count": 140,
   "id": "effective-beach",
   "metadata": {},
   "outputs": [],
   "source": [
    "from sklearn.model_selection import GridSearchCV\n",
    "from xgboost.sklearn import XGBRegressor\n",
    "\n",
    "#create instance of model to use\n",
    "clf = xgb.XGBRegressor()\n",
    "\n",
    "#define parameters to test\n",
    "parameters = {'nthread':[4],\n",
    "              'objective':['reg:linear'],\n",
    "              'learning_rate': [.03, 0.05, .07],\n",
    "              'max_depth': [5, 6, 7],\n",
    "              'min_child_weight': [4],\n",
    "              'silent': [1],\n",
    "              'subsample': [0.7],\n",
    "              'colsample_bytree': [0.7],\n",
    "              'n_estimators': [500]}\n",
    "\n",
    "#instantiate GridSearchCV with the model and parameters\n",
    "xgb_grid = GridSearchCV(clf,\n",
    "                        parameters,\n",
    "                        cv = 2,\n",
    "                        n_jobs = 5,\n",
    "                        verbose=True)"
   ]
  },
  {
   "cell_type": "code",
   "execution_count": 142,
   "id": "mysterious-navigation",
   "metadata": {},
   "outputs": [
    {
     "name": "stdout",
     "output_type": "stream",
     "text": [
      "Fitting 2 folds for each of 9 candidates, totalling 18 fits\n",
      "[13:04:27] WARNING: C:/Users/Administrator/workspace/xgboost-win64_release_1.3.0/src/objective/regression_obj.cu:170: reg:linear is now deprecated in favor of reg:squarederror.\n",
      "[13:04:27] WARNING: C:/Users/Administrator/workspace/xgboost-win64_release_1.3.0/src/learner.cc:541: \n",
      "Parameters: { silent } might not be used.\n",
      "\n",
      "  This may not be accurate due to some parameters are only used in language bindings but\n",
      "  passed down to XGBoost core.  Or some parameters are not used but slip through this\n",
      "  verification. Please open an issue if you find above cases.\n",
      "\n",
      "\n"
     ]
    },
    {
     "data": {
      "text/plain": [
       "GridSearchCV(cv=2,\n",
       "             estimator=XGBRegressor(base_score=None, booster=None,\n",
       "                                    colsample_bylevel=None,\n",
       "                                    colsample_bynode=None,\n",
       "                                    colsample_bytree=None, gamma=None,\n",
       "                                    gpu_id=None, importance_type='gain',\n",
       "                                    interaction_constraints=None,\n",
       "                                    learning_rate=None, max_delta_step=None,\n",
       "                                    max_depth=None, min_child_weight=None,\n",
       "                                    missing=nan, monotone_constraints=None,\n",
       "                                    n_estimators=100, n_jobs=...\n",
       "                                    reg_alpha=None, reg_lambda=None,\n",
       "                                    scale_pos_weight=None, subsample=None,\n",
       "                                    tree_method=None, validate_parameters=None,\n",
       "                                    verbosity=None),\n",
       "             n_jobs=5,\n",
       "             param_grid={'colsample_bytree': [0.7],\n",
       "                         'learning_rate': [0.03, 0.05, 0.07],\n",
       "                         'max_depth': [5, 6, 7], 'min_child_weight': [4],\n",
       "                         'n_estimators': [500], 'nthread': [4],\n",
       "                         'objective': ['reg:linear'], 'silent': [1],\n",
       "                         'subsample': [0.7]},\n",
       "             verbose=True)"
      ]
     },
     "execution_count": 142,
     "metadata": {},
     "output_type": "execute_result"
    }
   ],
   "source": [
    "#fit the estimator to the training data\n",
    "xgb_grid.fit(X_train, y_train)"
   ]
  },
  {
   "cell_type": "code",
   "execution_count": 143,
   "id": "bronze-right",
   "metadata": {},
   "outputs": [
    {
     "name": "stdout",
     "output_type": "stream",
     "text": [
      "0.0890466768381894\n",
      "{'colsample_bytree': 0.7, 'learning_rate': 0.03, 'max_depth': 6, 'min_child_weight': 4, 'n_estimators': 500, 'nthread': 4, 'objective': 'reg:linear', 'silent': 1, 'subsample': 0.7}\n"
     ]
    }
   ],
   "source": [
    "#Inspect the best score;\n",
    "print(xgb_grid.best_score_)\n",
    "\n",
    "#Inspect the best parameters; best_params_  attribute:\n",
    "print(xgb_grid.best_params_)"
   ]
  },
  {
   "cell_type": "markdown",
   "id": "challenging-slovak",
   "metadata": {},
   "source": [
    "<a class=\"anchor\" id=\"gs_predict\"></a>\n",
    "## Predictions from GridSearchCV Model"
   ]
  },
  {
   "cell_type": "code",
   "execution_count": 144,
   "id": "dental-effort",
   "metadata": {},
   "outputs": [],
   "source": [
    "grid_predictions = xgb_grid.predict(X_test)"
   ]
  },
  {
   "cell_type": "code",
   "execution_count": 145,
   "id": "incredible-tractor",
   "metadata": {},
   "outputs": [
    {
     "name": "stdout",
     "output_type": "stream",
     "text": [
      "using initial Parameters:\n",
      "MAE: 0.7341425891781179\n",
      "MSE: 0.7713166950360943\n",
      "RMSE: 0.8782463749063211\n"
     ]
    }
   ],
   "source": [
    "# RMSE Computation \n",
    "print('using initial Parameters:')\n",
    "print('MAE:', metrics.mean_absolute_error(y_test, predictions))\n",
    "print('MSE:', metrics.mean_squared_error(y_test, predictions))\n",
    "print('RMSE:', np.sqrt(metrics.mean_squared_error(y_test, predictions)))"
   ]
  },
  {
   "cell_type": "code",
   "execution_count": 146,
   "id": "consecutive-scanning",
   "metadata": {},
   "outputs": [
    {
     "name": "stdout",
     "output_type": "stream",
     "text": [
      "using GridSearchCV Parameters:\n",
      "MAE: 0.706179878696388\n",
      "MSE: 0.7114184222812523\n",
      "RMSE: 0.843456236138694\n"
     ]
    }
   ],
   "source": [
    "# RMSE Computation \n",
    "print('using GridSearchCV Parameters:')\n",
    "print('MAE:', metrics.mean_absolute_error(y_test, grid_predictions))\n",
    "print('MSE:', metrics.mean_squared_error(y_test, grid_predictions))\n",
    "print('RMSE:', np.sqrt(metrics.mean_squared_error(y_test, grid_predictions)))"
   ]
  },
  {
   "cell_type": "markdown",
   "id": "exposed-functionality",
   "metadata": {},
   "source": [
    "<a class=\"anchor\" id=\"comp_pred\"></a>\n",
    "## Predictions for Competition"
   ]
  },
  {
   "cell_type": "markdown",
   "id": "previous-channel",
   "metadata": {},
   "source": [
    "Perform same preprocessing steps as on training data"
   ]
  },
  {
   "cell_type": "markdown",
   "id": "affected-mixture",
   "metadata": {},
   "source": [
    "**CONVERT CATEGORICAL**"
   ]
  },
  {
   "cell_type": "markdown",
   "id": "saved-opportunity",
   "metadata": {},
   "source": [
    "ALREADY CONVERTED ABOVE, WITH TRAINING DATA"
   ]
  },
  {
   "cell_type": "markdown",
   "id": "promising-connection",
   "metadata": {},
   "source": [
    "**STANDARDIZE DATA**"
   ]
  },
  {
   "cell_type": "code",
   "execution_count": 147,
   "id": "fatal-recognition",
   "metadata": {
    "scrolled": true
   },
   "outputs": [
    {
     "data": {
      "text/plain": [
       "numpy.ndarray"
      ]
     },
     "execution_count": 147,
     "metadata": {},
     "output_type": "execute_result"
    }
   ],
   "source": [
    "#use scaler fitted to the training data\n",
    "X_scaled_tst = scaler.transform(test_df)\n",
    "type(X_scaled_tst)"
   ]
  },
  {
   "cell_type": "code",
   "execution_count": 149,
   "id": "documentary-testing",
   "metadata": {},
   "outputs": [],
   "source": [
    "#Converting numpy array to dataframe\n",
    "X_scaled_tst = pd.DataFrame(X_scaled_tst, index=test_df.index, columns=test_df.columns) "
   ]
  },
  {
   "cell_type": "markdown",
   "id": "primary-poetry",
   "metadata": {},
   "source": [
    "**Restructure data into DMatrix**"
   ]
  },
  {
   "cell_type": "code",
   "execution_count": null,
   "id": "noted-treasury",
   "metadata": {},
   "outputs": [],
   "source": [
    "D_train = xgb.DMatrix(X_train, label=y_train)\n",
    "D_test = xgb.DMatrix(X_test, label=y_test)"
   ]
  },
  {
   "cell_type": "markdown",
   "id": "authentic-great",
   "metadata": {},
   "source": [
    "**MAKE PREDICTIONS WITH TEST DATA**"
   ]
  },
  {
   "cell_type": "code",
   "execution_count": 150,
   "id": "apparent-hepatitis",
   "metadata": {},
   "outputs": [],
   "source": [
    "predict = xgb_grid.predict(X_scaled_tst)"
   ]
  },
  {
   "cell_type": "code",
   "execution_count": 151,
   "id": "stock-portrait",
   "metadata": {},
   "outputs": [
    {
     "data": {
      "text/plain": [
       "(200000,)"
      ]
     },
     "execution_count": 151,
     "metadata": {},
     "output_type": "execute_result"
    }
   ],
   "source": [
    "np.array(predict).shape"
   ]
  },
  {
   "cell_type": "code",
   "execution_count": 152,
   "id": "acoustic-zambia",
   "metadata": {
    "scrolled": true
   },
   "outputs": [
    {
     "data": {
      "text/plain": [
       "array([7.545695 , 7.853154 , 7.597432 , ..., 7.462905 , 7.427323 ,\n",
       "       7.3452034], dtype=float32)"
      ]
     },
     "execution_count": 152,
     "metadata": {},
     "output_type": "execute_result"
    }
   ],
   "source": [
    "predict"
   ]
  },
  {
   "cell_type": "markdown",
   "id": "annual-logan",
   "metadata": {},
   "source": [
    "**CREATE DATAFRAME OF PREDICTIONS, WITH INDEX**"
   ]
  },
  {
   "cell_type": "code",
   "execution_count": 153,
   "id": "unlike-roman",
   "metadata": {},
   "outputs": [],
   "source": [
    "#name column(s) as desired\n",
    "final_dataset = pd.DataFrame(\n",
    "    {\n",
    "        \"target\": predict[:],\n",
    "    },\n",
    "    index = test_df.index\n",
    ")"
   ]
  },
  {
   "cell_type": "code",
   "execution_count": 154,
   "id": "realistic-olympus",
   "metadata": {},
   "outputs": [
    {
     "data": {
      "text/plain": [
       "(200000, 1)"
      ]
     },
     "execution_count": 154,
     "metadata": {},
     "output_type": "execute_result"
    }
   ],
   "source": [
    "final_dataset.shape"
   ]
  },
  {
   "cell_type": "code",
   "execution_count": 155,
   "id": "grateful-transportation",
   "metadata": {
    "scrolled": true
   },
   "outputs": [
    {
     "data": {
      "text/html": [
       "<div>\n",
       "<style scoped>\n",
       "    .dataframe tbody tr th:only-of-type {\n",
       "        vertical-align: middle;\n",
       "    }\n",
       "\n",
       "    .dataframe tbody tr th {\n",
       "        vertical-align: top;\n",
       "    }\n",
       "\n",
       "    .dataframe thead th {\n",
       "        text-align: right;\n",
       "    }\n",
       "</style>\n",
       "<table border=\"1\" class=\"dataframe\">\n",
       "  <thead>\n",
       "    <tr style=\"text-align: right;\">\n",
       "      <th></th>\n",
       "      <th>target</th>\n",
       "    </tr>\n",
       "    <tr>\n",
       "      <th>id</th>\n",
       "      <th></th>\n",
       "    </tr>\n",
       "  </thead>\n",
       "  <tbody>\n",
       "    <tr>\n",
       "      <th>0</th>\n",
       "      <td>7.545695</td>\n",
       "    </tr>\n",
       "    <tr>\n",
       "      <th>5</th>\n",
       "      <td>7.853154</td>\n",
       "    </tr>\n",
       "    <tr>\n",
       "      <th>15</th>\n",
       "      <td>7.597432</td>\n",
       "    </tr>\n",
       "    <tr>\n",
       "      <th>16</th>\n",
       "      <td>7.450446</td>\n",
       "    </tr>\n",
       "    <tr>\n",
       "      <th>17</th>\n",
       "      <td>7.317441</td>\n",
       "    </tr>\n",
       "  </tbody>\n",
       "</table>\n",
       "</div>"
      ],
      "text/plain": [
       "      target\n",
       "id          \n",
       "0   7.545695\n",
       "5   7.853154\n",
       "15  7.597432\n",
       "16  7.450446\n",
       "17  7.317441"
      ]
     },
     "execution_count": 155,
     "metadata": {},
     "output_type": "execute_result"
    }
   ],
   "source": [
    "final_dataset.head()"
   ]
  },
  {
   "cell_type": "markdown",
   "id": "spatial-passing",
   "metadata": {},
   "source": [
    "**CREATE SUBMISSION FILE**"
   ]
  },
  {
   "cell_type": "markdown",
   "id": "underlying-decline",
   "metadata": {},
   "source": [
    "Import the provided sample_submission.csv to use as a template to create your submission file:"
   ]
  },
  {
   "cell_type": "code",
   "execution_count": 156,
   "id": "innocent-pressure",
   "metadata": {},
   "outputs": [],
   "source": [
    "submission_format = pd.read_csv('sample_submission.csv', index_col='id')"
   ]
  },
  {
   "cell_type": "code",
   "execution_count": 157,
   "id": "published-trace",
   "metadata": {},
   "outputs": [
    {
     "data": {
      "text/plain": [
       "Index(['target'], dtype='object')"
      ]
     },
     "execution_count": 157,
     "metadata": {},
     "output_type": "execute_result"
    }
   ],
   "source": [
    "submission_format.columns"
   ]
  },
  {
   "cell_type": "code",
   "execution_count": 158,
   "id": "healthy-training",
   "metadata": {},
   "outputs": [],
   "source": [
    "my_submission = pd.DataFrame(data=final_dataset,\n",
    "                             columns=submission_format.columns,\n",
    "                             index=submission_format.index)"
   ]
  },
  {
   "cell_type": "code",
   "execution_count": 159,
   "id": "advisory-correction",
   "metadata": {},
   "outputs": [
    {
     "data": {
      "text/html": [
       "<div>\n",
       "<style scoped>\n",
       "    .dataframe tbody tr th:only-of-type {\n",
       "        vertical-align: middle;\n",
       "    }\n",
       "\n",
       "    .dataframe tbody tr th {\n",
       "        vertical-align: top;\n",
       "    }\n",
       "\n",
       "    .dataframe thead th {\n",
       "        text-align: right;\n",
       "    }\n",
       "</style>\n",
       "<table border=\"1\" class=\"dataframe\">\n",
       "  <thead>\n",
       "    <tr style=\"text-align: right;\">\n",
       "      <th></th>\n",
       "      <th>target</th>\n",
       "    </tr>\n",
       "    <tr>\n",
       "      <th>id</th>\n",
       "      <th></th>\n",
       "    </tr>\n",
       "  </thead>\n",
       "  <tbody>\n",
       "    <tr>\n",
       "      <th>0</th>\n",
       "      <td>7.545695</td>\n",
       "    </tr>\n",
       "    <tr>\n",
       "      <th>5</th>\n",
       "      <td>7.853154</td>\n",
       "    </tr>\n",
       "    <tr>\n",
       "      <th>15</th>\n",
       "      <td>7.597432</td>\n",
       "    </tr>\n",
       "    <tr>\n",
       "      <th>16</th>\n",
       "      <td>7.450446</td>\n",
       "    </tr>\n",
       "    <tr>\n",
       "      <th>17</th>\n",
       "      <td>7.317441</td>\n",
       "    </tr>\n",
       "  </tbody>\n",
       "</table>\n",
       "</div>"
      ],
      "text/plain": [
       "      target\n",
       "id          \n",
       "0   7.545695\n",
       "5   7.853154\n",
       "15  7.597432\n",
       "16  7.450446\n",
       "17  7.317441"
      ]
     },
     "execution_count": 159,
     "metadata": {},
     "output_type": "execute_result"
    }
   ],
   "source": [
    "my_submission.head()"
   ]
  },
  {
   "cell_type": "code",
   "execution_count": 160,
   "id": "bulgarian-document",
   "metadata": {},
   "outputs": [],
   "source": [
    "my_submission.to_csv('v2 xgb.csv')"
   ]
  }
 ],
 "metadata": {
  "kernelspec": {
   "display_name": "Python 3",
   "language": "python",
   "name": "python3"
  },
  "language_info": {
   "codemirror_mode": {
    "name": "ipython",
    "version": 3
   },
   "file_extension": ".py",
   "mimetype": "text/x-python",
   "name": "python",
   "nbconvert_exporter": "python",
   "pygments_lexer": "ipython3",
   "version": "3.8.0"
  }
 },
 "nbformat": 4,
 "nbformat_minor": 5
}
